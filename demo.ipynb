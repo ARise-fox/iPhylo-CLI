{
 "cells": [
  {
   "cell_type": "markdown",
   "source": [
    "# iPhylo CLI Demo\n",
    "\n",
    "Welcome. This is a simple demo explaining each of the modules and arguments’ functionality.\n",
    "\n",
    "In this demo, you can see the acceptable arguments and the example output. You can also refer to the example input files and commands under the directory [example](example).\n",
    "\n",
    "\n"
   ],
   "metadata": {
    "collapsed": false
   }
  },
  {
   "cell_type": "markdown",
   "source": [
    "## Set up\n",
    "Please use the Python 3 environment. The develope and test environment is **Python 3.8**.\n",
    "Please keep your network available for the first load, as well as enough space on your disk (about 2G), as the initial run needs to fetch the online database resources.\n",
    "\n",
    "\n",
    "## Packages environment\n",
    "git clone https://github.com/ARise-fox/iPhylo-CLI.git to clone this project to your local directory.\n",
    "Use `pip install -r requirements.txt` to preload the required packages."
   ],
   "metadata": {
    "collapsed": false
   }
  },
  {
   "cell_type": "markdown",
   "source": [
    "## Overall\n",
    "\n",
    "The iPhylo CLI includes several modules:\n",
    "\n",
    "1. **phylotree**: the phylo tree module\n",
    "2. **chemtree**: the chemical tree module based on the local ChemOnt database\n",
    "3. **chemonline**: the chemical tree module based on the online ClassyFire API\n",
    "4. **csv2tree**: the CSV to tree module\n",
    "5. **NPtree**: the chemical tree module based on the local NPClassifier database\n",
    "6. **NPonline**: the chemical tree online module based on the online NPClassifier API\n",
    "\n",
    "Users are able to use any of the modules by running the command `python iphylo.py <module> <args>`. In the following illustration, we will split the command into elements in the 'command' variable."
   ],
   "metadata": {
    "collapsed": false
   }
  },
  {
   "cell_type": "markdown",
   "source": [
    "## phylotree module\n",
    "This module is used to generate a phylogenetic tree of organisms, run the following command for help:\n",
    "`python iphylo.py phylotree -h`\n",
    "\n",
    "Usage:\n",
    "`iphylo.py phylotree [-h] (-i ITEMS | -f FILE | --subtree SUBTREE) [-o PREFIX] [-fn FNAME] [-bl] [-interrupt (--p | --c | --o | --f | --g | --s)]`\n",
    "\n",
    "The following is the parameter documentation:\n",
    "- `-h`, `--help`\n",
    "    Show help message and exit.\n",
    "\n",
    "- `-i ITEMS`, `--input ITEMS`\n",
    "    Input, separate the entries with commas in English format, mixed input supported.\n",
    "    Example: `-input \"Homo sapiens,Mus musculus,9031,7227,562\"`\n",
    "\n",
    "- `-f FILE`, `--file FILE`\n",
    "    Input file path, needs to be a .txt file, separate by new line.\n",
    "    Example: `-file species_taxid_for_tree.txt`\n",
    "\n",
    "- `--subtree SUBTREE`\n",
    "    Draw subtree of a certain taxon.\n",
    "    Example: `-subtree Mammalia`. You can also use `-input xx|subtree` instead.\n",
    "\n",
    "- `-o PREFIX`, `--prefix PREFIX`\n",
    "    Output file directory, default `iphylo_files/` in the current project.\n",
    "\n",
    "- `-fn FNAME`, `--fname FNAME`\n",
    "    Output file name.\n",
    "\n",
    "- `-bl`, `--branch_length`\n",
    "    Boolean, choose whether you need branch length for the tree. Default is False.\n",
    "\n",
    "- `-interrupt`\n",
    "    Interrupt the tree at a specified taxonomic level. You need to input the level parameter to make it work.\n",
    "    Example: `-file \"species_for_tree_short.txt\" -interrupt --g`\n",
    "\n",
    "- `--p`\n",
    "    Phylum level.\n",
    "\n",
    "- `--c`\n",
    "    Class level.\n",
    "\n",
    "- `--o`\n",
    "    Order level.\n",
    "\n",
    "- `--f`\n",
    "    Family level.\n",
    "\n",
    "- `--g`\n",
    "    Genus level.\n",
    "\n",
    "- `--s`\n",
    "    Species level.\n"
   ],
   "metadata": {
    "collapsed": false
   }
  },
  {
   "cell_type": "markdown",
   "source": [
    "\n",
    "Here is a simple demo showcase the phylotree submodule. Entries are entered in the command line with the `-i` parameter."
   ],
   "metadata": {
    "collapsed": false
   }
  },
  {
   "cell_type": "code",
   "execution_count": 1,
   "metadata": {
    "collapsed": true
   },
   "outputs": [],
   "source": [
    "import subprocess"
   ]
  },
  {
   "cell_type": "code",
   "execution_count": 23,
   "outputs": [
    {
     "name": "stdout",
     "output_type": "stream",
     "text": [
      "database connect success!\n",
      "Searching for 5 items… \n",
      "|████████████████████████████████████████| 5/5 [100%] in 0.0s (648.40/s) \n",
      "Searching for 0 items for subtree… \n",
      "|████████████████████████████████████████| 0 in 0.0s (0.00/s) \n",
      "Generate Tree Success!\n",
      "Tree and ASCII tree is saved to: /Users/liyueer/PycharmProjects/iphylo_cmd_release/iphylo_files/iPHYLO_Tree/iPHYLO_Tree.txt\n",
      "5 leaves in tree\n",
      "0 names are replaced!\n",
      "Running time: 0.3869498330000001 Seconds\n",
      "\n"
     ]
    }
   ],
   "source": [
    "command = [\n",
    "    'python',\n",
    "    'iphylo.py',\n",
    "    'phylotree',\n",
    "    '-i',\n",
    "    \"Homo sapiens,Mus musculus,Gallus gallus,Drosophila melanogaster,Escherichia coli\"\n",
    "]\n",
    "\n",
    "# Instead, you can run the following command in Terminal. The two results are equivalent.\n",
    "# python iphylo.py phylotree -i \"Homo sapiens,Mus musculus,Gallus gallus,Drosophila melanogaster,Escherichia coli\"\n",
    "\n",
    "result = subprocess.run(command, capture_output=True, text=True)\n",
    "print(result.stdout)\n"
   ],
   "metadata": {
    "collapsed": false
   }
  },
  {
   "cell_type": "markdown",
   "source": [
    "The outputs include tree in Newick, Nexus, PhyloXML,and structure representation in ASCII and PDF."
   ],
   "metadata": {
    "collapsed": false
   }
  },
  {
   "cell_type": "code",
   "execution_count": 8,
   "outputs": [
    {
     "name": "stdout",
     "output_type": "stream",
     "text": [
      "((((((((s__Drosophila_melanogaster)g__Drosophila)f__Drosophilidae)o__Diptera)c__Insecta)p__Arthropoda,(((((s__Mus_musculus)g__Mus)f__Muridae)o__Rodentia,(((s__Homo_sapiens)g__Homo)f__Hominidae)o__Primates)c__Mammalia,((((s__Gallus_gallus)g__Gallus)f__Phasianidae)o__Galliformes)c__Aves)p__Chordata)k__Metazoa)d__Eukaryota,(((((((s__Escherichia_coli)g__Escherichia)f__Enterobacteriaceae)o__Enterobacterales)c__Gammaproteobacteria)p__Proteobacteria)k__Bacteria)d__Bacteria);\n",
      "\n"
     ]
    }
   ],
   "source": [
    "# show output file content\n",
    "newick_path = 'iphylo_files/iPHYLO_Tree/iPHYLO_Tree.txt'\n",
    "\n",
    "with open(newick_path, 'r') as file:\n",
    "    file_content = file.read()\n",
    "\n",
    "print(file_content)\n"
   ],
   "metadata": {
    "collapsed": false
   }
  },
  {
   "cell_type": "code",
   "execution_count": 9,
   "outputs": [
    {
     "name": "stdout",
     "output_type": "stream",
     "text": [
      "              _____ ______ _____ _____ _____ ______ s__Drosophila_melanogaster\n",
      "             |\n",
      "  _____ _____|             _____ _____ _____ ______ s__Mus_musculus\n",
      " |           |      ______|\n",
      " |           |_____|      |_____ _____ _____ ______ s__Homo_sapiens\n",
      "_|                 |\n",
      " |                 |______ _____ _____ _____ ______ s__Gallus_gallus\n",
      " |\n",
      " |_____ _____ _____ ______ _____ _____ _____ ______ s__Escherichia_coli\n",
      "\n",
      "\n"
     ]
    }
   ],
   "source": [
    "# show output ASCII\n",
    "ASCII_path = 'iphylo_files/iPHYLO_Tree/iPHYLO_Tree_ascii_tree.txt'\n",
    "\n",
    "with open(ASCII_path, 'r') as file:\n",
    "    file_content = file.read()\n",
    "\n",
    "print(file_content)\n"
   ],
   "metadata": {
    "collapsed": false
   }
  },
  {
   "cell_type": "markdown",
   "source": [
    "Additionally, the program will generate a table `[file name]_items.csv` that includes species names, IDs, and classification information."
   ],
   "metadata": {
    "collapsed": false
   }
  },
  {
   "cell_type": "code",
   "execution_count": 24,
   "outputs": [
    {
     "data": {
      "text/plain": "   taxid               input_term        domain      kingdom  \\\n0   9606             Homo_sapiens  d__Eukaryota   k__Metazoa   \n1   9031            Gallus_gallus  d__Eukaryota   k__Metazoa   \n2  10090             Mus_musculus  d__Eukaryota   k__Metazoa   \n3    562         Escherichia_coli   d__Bacteria  k__Bacteria   \n4   7227  Drosophila_melanogaster  d__Eukaryota   k__Metazoa   \n\n              phylum                   class                order  \\\n0        p__Chordata             c__Mammalia          o__Primates   \n1        p__Chordata                 c__Aves       o__Galliformes   \n2        p__Chordata             c__Mammalia          o__Rodentia   \n3  p__Proteobacteria  c__Gammaproteobacteria  o__Enterobacterales   \n4      p__Arthropoda              c__Insecta           o__Diptera   \n\n                  family           genus                     species  \n0           f__Hominidae         g__Homo             s__Homo_sapiens  \n1         f__Phasianidae       g__Gallus            s__Gallus_gallus  \n2             f__Muridae          g__Mus             s__Mus_musculus  \n3  f__Enterobacteriaceae  g__Escherichia         s__Escherichia_coli  \n4       f__Drosophilidae   g__Drosophila  s__Drosophila_melanogaster  ",
      "text/html": "<div>\n<style scoped>\n    .dataframe tbody tr th:only-of-type {\n        vertical-align: middle;\n    }\n\n    .dataframe tbody tr th {\n        vertical-align: top;\n    }\n\n    .dataframe thead th {\n        text-align: right;\n    }\n</style>\n<table border=\"1\" class=\"dataframe\">\n  <thead>\n    <tr style=\"text-align: right;\">\n      <th></th>\n      <th>taxid</th>\n      <th>input_term</th>\n      <th>domain</th>\n      <th>kingdom</th>\n      <th>phylum</th>\n      <th>class</th>\n      <th>order</th>\n      <th>family</th>\n      <th>genus</th>\n      <th>species</th>\n    </tr>\n  </thead>\n  <tbody>\n    <tr>\n      <th>0</th>\n      <td>9606</td>\n      <td>Homo_sapiens</td>\n      <td>d__Eukaryota</td>\n      <td>k__Metazoa</td>\n      <td>p__Chordata</td>\n      <td>c__Mammalia</td>\n      <td>o__Primates</td>\n      <td>f__Hominidae</td>\n      <td>g__Homo</td>\n      <td>s__Homo_sapiens</td>\n    </tr>\n    <tr>\n      <th>1</th>\n      <td>9031</td>\n      <td>Gallus_gallus</td>\n      <td>d__Eukaryota</td>\n      <td>k__Metazoa</td>\n      <td>p__Chordata</td>\n      <td>c__Aves</td>\n      <td>o__Galliformes</td>\n      <td>f__Phasianidae</td>\n      <td>g__Gallus</td>\n      <td>s__Gallus_gallus</td>\n    </tr>\n    <tr>\n      <th>2</th>\n      <td>10090</td>\n      <td>Mus_musculus</td>\n      <td>d__Eukaryota</td>\n      <td>k__Metazoa</td>\n      <td>p__Chordata</td>\n      <td>c__Mammalia</td>\n      <td>o__Rodentia</td>\n      <td>f__Muridae</td>\n      <td>g__Mus</td>\n      <td>s__Mus_musculus</td>\n    </tr>\n    <tr>\n      <th>3</th>\n      <td>562</td>\n      <td>Escherichia_coli</td>\n      <td>d__Bacteria</td>\n      <td>k__Bacteria</td>\n      <td>p__Proteobacteria</td>\n      <td>c__Gammaproteobacteria</td>\n      <td>o__Enterobacterales</td>\n      <td>f__Enterobacteriaceae</td>\n      <td>g__Escherichia</td>\n      <td>s__Escherichia_coli</td>\n    </tr>\n    <tr>\n      <th>4</th>\n      <td>7227</td>\n      <td>Drosophila_melanogaster</td>\n      <td>d__Eukaryota</td>\n      <td>k__Metazoa</td>\n      <td>p__Arthropoda</td>\n      <td>c__Insecta</td>\n      <td>o__Diptera</td>\n      <td>f__Drosophilidae</td>\n      <td>g__Drosophila</td>\n      <td>s__Drosophila_melanogaster</td>\n    </tr>\n  </tbody>\n</table>\n</div>"
     },
     "execution_count": 24,
     "metadata": {},
     "output_type": "execute_result"
    }
   ],
   "source": [
    "import pandas as pd\n",
    "file_path = 'iphylo_files/iPHYLO_Tree/iPHYLO_Tree_items.csv'\n",
    "df = pd.read_csv(file_path)\n",
    "df"
   ],
   "metadata": {
    "collapsed": false
   }
  },
  {
   "cell_type": "markdown",
   "source": [
    "Also, you can define the input in a file, using `-f FILE`, `--file FILE`. Take the input file `example/taxids_50.txt` as an example.\n",
    "Set the output directory and file name using `-o PREFIX`, `--prefix PREFIX` and `-fn FNAME`, `--fname FNAME`"
   ],
   "metadata": {
    "collapsed": false
   }
  },
  {
   "cell_type": "code",
   "execution_count": 11,
   "outputs": [
    {
     "name": "stdout",
     "output_type": "stream",
     "text": [
      "database connect success!\n",
      "Searching for 50 items… \n",
      "|████████████████████████████████████████| 50/50 [100%] in 0.0s (684931.51/s) \n",
      "Searching for 0 items for subtree… \n",
      "|████████████████████████████████████████| 0 in 0.0s (0.00/s) \n",
      "Generate Tree Success!\n",
      "Tree and ASCII tree is saved to: iphylo_files/iPHYLO_Tree_2/iPHYLO_Tree_2.txt\n",
      "50 leaves in tree\n",
      "0 names are replaced!\n",
      "Running time: 0.36514125 Seconds\n",
      "\n"
     ]
    }
   ],
   "source": [
    "command = [\n",
    "    'python',\n",
    "    'iphylo.py',\n",
    "    'phylotree',\n",
    "    '-f',\n",
    "    'example/taxids_50.txt',\n",
    "    '-o',\n",
    "    'iphylo_files',\n",
    "    '-fn',\n",
    "    'iPHYLO_Tree_2'\n",
    "]\n",
    "result = subprocess.run(command, capture_output=True, text=True)\n",
    "print(result.stdout)"
   ],
   "metadata": {
    "collapsed": false
   }
  },
  {
   "cell_type": "markdown",
   "source": [
    "Here is an example use case that specifies generating a tree with branch lengths using the `-bl` parameter and filtering at the genus level using the `-interrupt`, `--g` parameter."
   ],
   "metadata": {
    "collapsed": false
   }
  },
  {
   "cell_type": "code",
   "execution_count": 16,
   "outputs": [],
   "source": [
    "command = [\n",
    "    'python',\n",
    "    'iphylo.py',\n",
    "    'phylotree',\n",
    "    '-i',\n",
    "    'Homo sapiens,Mus musculus,Gallus gallus,Drosophila melanogaster,Escherichia coli',\n",
    "    '-bl',\n",
    "    '-interrupt',\n",
    "    '--g'\n",
    "]\n",
    "\n",
    "result = subprocess.run(command, capture_output=True, text=True)\n"
   ],
   "metadata": {
    "collapsed": false
   }
  },
  {
   "cell_type": "markdown",
   "source": [
    "In the result file, all branches are set length to 1 and all leave nodes are at genus level."
   ],
   "metadata": {
    "collapsed": false
   }
  },
  {
   "cell_type": "code",
   "execution_count": 17,
   "outputs": [
    {
     "name": "stdout",
     "output_type": "stream",
     "text": [
      "(((((((g__Escherichia:1.00000)f__Enterobacteriaceae:1.00000)o__Enterobacterales:1.00000)c__Gammaproteobacteria:1.00000)p__Proteobacteria:1.00000)k__Bacteria:1.00000)d__Bacteria:1.00000,((((((g__Homo:1.00000)f__Hominidae:1.00000)o__Primates:1.00000,((g__Mus:1.00000)f__Muridae:1.00000)o__Rodentia:1.00000)c__Mammalia:1.00000,(((g__Gallus:1.00000)f__Phasianidae:1.00000)o__Galliformes:1.00000)c__Aves:1.00000)p__Chordata:1.00000,((((g__Drosophila:1.00000)f__Drosophilidae:1.00000)o__Diptera:1.00000)c__Insecta:1.00000)p__Arthropoda:1.00000)k__Metazoa:1.00000)d__Eukaryota:1.00000):1.00000;\n",
      "\n",
      "         _______ _______ _______ ______ _______ _______ _______ g__Escherichia\n",
      "        |\n",
      "        |                               _______ _______ _______ g__Homo\n",
      "________|                        ______|\n",
      "        |                _______|      |_______ _______ _______ g__Mus\n",
      "        |               |       |\n",
      "        |_______ _______|       |______ _______ _______ _______ g__Gallus\n",
      "                        |\n",
      "                        |_______ ______ _______ _______ _______ g__Drosophila\n",
      "\n",
      "\n"
     ]
    }
   ],
   "source": [
    "# show output\n",
    "file_path = 'iphylo_files/iPHYLO_Tree/iPHYLO_Tree.txt'\n",
    "ASCII_path = 'iphylo_files/iPHYLO_Tree/iPHYLO_Tree_ascii_tree.txt'\n",
    "\n",
    "\n",
    "with open(file_path, 'r') as file:\n",
    "    file_content = file.read()\n",
    "print(file_content)\n",
    "\n",
    "with open(ASCII_path, 'r') as file:\n",
    "    ASCII_content = file.read()\n",
    "print(ASCII_content)"
   ],
   "metadata": {
    "collapsed": false
   }
  },
  {
   "cell_type": "markdown",
   "source": [
    "You can quickly obtain a full-clade tree for any taxonomic level using the `|subtree` operator. For example, to get the tree with all descendants within the specified common ancestor clade \"Primates\", use `-i Primates|subtree` or `--subtree Primates`."
   ],
   "metadata": {
    "collapsed": false
   }
  },
  {
   "cell_type": "code",
   "execution_count": 14,
   "outputs": [
    {
     "name": "stdout",
     "output_type": "stream",
     "text": [
      "((((((((s__Cercopithecus_neglectus,(Cercopithecus_mona_campbelli,Cercopithecus_mona_mona)s__Cercopithecus_mona,(Cercopithecus_mitis_opisthostictus,Cercopithecus_mitis_stuhlmanni,Cercopithecus_mitis_mitis,Cercopithecus_mitis_heymansi,Cercopithecus_mitis_boutourlinii)s__Cercopithecus_mitis,s__Cercopithecus_diana,(Cercopithecus_ascanius_whitesidei,Cercopithecus_ascanius_schmidti,Cercopithecus_ascanius_katangae,Cercopithecus_ascanius_ascanius)s__Cercopithecus_ascanius,(Cercopithecus_pogonias_schwarzianus,Cercopithecus_pogonias_pogonias,Cercopithecus_pogonias_nigripes,Cercopithecus_pogonias_grayi)s__Cercopithecus_pogonias,(Cercopithecus_erythrogaster_erythrogaster,Cercopithecus_erythrogaster_pococki)s__Cercopithecus_erythrogaster,(Cercopithecus_campbelli_lowei)s__Cercopithecus_campbelli,(Cercopithecus_nictitans_nictitans,Cercopithecus_nictitans_martini)s__Cercopithecus_nictitans,(Cercopithecus_hamlyni_hamlyni)s__Cercopithecus_hamlyni,(Cercopithecus_cephus_ngottoensis,Cercopithecus_cephus_cephus,Cercopithecus_cephus_cephodes)s__Cercopithecus_cephus,(Cercopithecus_erythrotis_camerunensis,Cercopithecus_erythrotis_erythrotis)s__Cercopithecus_erythrotis,(Cercopithecus_wolfi_wolfi,Cercopithecus_wolfi_pyrogaster,Cercopithecus_wolfi_elegans)s__Cercopithecus_wolfi,(Cercopithecus_albogularis_kolbi,Cercopithecus_albogularis_moloneyi,Cercopithecus_albogularis_monoides,Cercopithecus_albogularis_labiatus,Cercopithecus_albogularis_francescae,Cercopithecus_albogularis_erythrarchus,Cercopithecus_albogularis_albotorquatus)s__Cercopithecus_albogularis,s__Cercopithecus_denti,s__Cercopithecus_kandti,s__Cercopithecus_lomamiensis,s__Cercopithecus_doggetti,unclassified_Cercopithecus,s__Cercopithecus_sclateri,s__Cercopithecus_roloway,s__Cercopithecus_dryas,(Cercopithecus_petaurista_buettikoferi,Cercopithecus_petaurista_petaurista)s__Cercopithecus_petaurista,s__Cercopithecus_sp_WMS_2012)g__Cercopithecus,((Semnopithecus_entellus_entellus)s__Semnopithecus_entellus,s__Semnopithecus_hector,s__Semnopithecus_sp,unclassified_Semnopithecus,s__Semnopithecus_ajax,s__Semnopithecus_schistaceus,s__Semnopithecus_hypoleucos,s__Semnopithecus_priam)g__Semnopithecus,(s__Papio_kindae_x_Papio_ursinus_griseipes,s__Papio_kindae_x_Papio_cynocephalus,s__Papio_anubis_x_Papio_ursinus,s__Papio_anubis_x_Papio_cynocephalus,(Papio_cynocephalus_cynocephalus,Papio_cynocephalus_ibeanus)s__Papio_cynocephalus,s__Papio_sp,s__Papio_cynocephalus_x_Papio_anubis,s__Papio_anubis_x_hamadryas,(Papio_ursinus_griseipes,Papio_ursinus_ursinus)s__Papio_ursinus,(Papio_hamadryas_hamadryas)s__Papio_hamadryas,(Papio_anubis_anubis)s__Papio_anubis,s__Papio_kindae,s__Papio_sp_Africa_2004,s__Papio_papio,s__Papio_sp_PS_2007,unclassified_Papio)g__Papio,((Macaca_mulatta_brevicaudus,Macaca_mulatta_lasiotus,Macaca_mulatta_vestita)s__Macaca_mulatta,s__Macaca_tonkeana,(Macaca_thibetana_thibetana)s__Macaca_thibetana,unclassified_Macaca,s__Macaca_munzala,s__Macaca_leucogenys,s__Macaca_speciosa,s__Macaca_sinica,(Macaca_assamensis_assamensis)s__Macaca_assamensis,s__Macaca_silenus,s__Macaca_sp,(Macaca_radiata_radiata)s__Macaca_radiata,s__Macaca_nigra,s__Macaca_sylvanus,(Macaca_nemestrina_nemestrina)s__Macaca_nemestrina,(Macaca_fuscata_fuscata,Macaca_fuscata_yakui)s__Macaca_fuscata,(Macaca_fascicularis_fascicularis,Macaca_fascicularis_aureus,Macaca_fascicularis_philippinensis)s__Macaca_fascicularis,s__Macaca_arctoides,s__Macaca_hecki_x_tonkeana,s__Macaca_pagensis,s__Macaca_balantak_x_tonkeana,s__Macaca_balantak,s__Macaca_cyclopis,s__Macaca_siberu,s__Macaca_togeanus,s__Macaca_maura_x_tonkeana,s__Macaca_leonina,s__Macaca_ochreata,s__Macaca_nigrescens,s__Macaca_maura,s__Macaca_hecki,s__Macaca_brunnescens)g__Macaca,(s__Trachypithecus_cristatus,(Trachypithecus_phayrei_crepuscula,Trachypithecus_phayrei_phayrei,Trachypithecus_phayrei_shanicus,Trachypithecus_phayrei_holotephreus)s__Trachypithecus_phayrei,(Trachypithecus_francoisi_francoisi)s__Trachypithecus_francoisi,(Trachypithecus_auratus_auratus,Trachypithecus_auratus_pyrrhus,Trachypithecus_auratus_mauritius)s__Trachypithecus_auratus,s__Trachypithecus_shortridgei,(Trachypithecus_vetulus_vetulus)s__Trachypithecus_vetulus,(Trachypithecus_poliocephalus_leucocephalus,Trachypithecus_poliocephalus_poliocephalus)s__Trachypithecus_poliocephalus,s__Trachypithecus_hatinhensis,s__Trachypithecus_sp,s__Trachypithecus_francoisi_x_poliocephalus,s__Trachypithecus_obscurus,s__Trachypithecus_barbei,s__Trachypithecus_germaini,s__Trachypithecus_laotum,s__Trachypithecus_delacouri,s__Trachypithecus_pileatus,s__Trachypithecus_geei,s__Trachypithecus_johnii,s__Trachypithecus_mauritius,unclassified_Trachypithecus)g__Trachypithecus,((Cercocebus_atys_lunulatus,Cercocebus_atys_atys)s__Cercocebus_atys,s__Cercocebus_chrysogaster,s__Cercocebus_galeritus,(Cercocebus_torquatus_torquatus)s__Cercocebus_torquatus,s__Cercocebus_agilis)g__Cercocebus,((Lophocebus_albigena_albigena)s__Lophocebus_albigena,s__Lophocebus_aterrimus)g__Lophocebus,(s__Colobus_sp_DTG_2004,s__Colobus_sp_MB_2005,unclassified_Colobus,(Colobus_guereza_kikuyuensis,Colobus_guereza_occidentalis,Colobus_guereza_caudatus,Colobus_guereza_matschiei)s__Colobus_guereza,s__Colobus_polykomos,(Colobus_angolensis_palliatus)s__Colobus_angolensis,(Colobus_satanas_satanas)s__Colobus_satanas,s__Colobus_vellerosus_x_angolensis,s__Colobus_vellerosus,s__Colobus_sp)g__Colobus,((Presbytis_melalophos_mitrata,Presbytis_melalophos_sumatranus,Presbytis_melalophos_melalophos,Presbytis_melalophos_bicolor)s__Presbytis_melalophos,(Presbytis_comata_comata,Presbytis_comata_fredericae)s__Presbytis_comata,s__Presbytis_thomasi,(Presbytis_rubicunda_rubicunda)s__Presbytis_rubicunda,(Presbytis_potenziani_siberu,Presbytis_potenziani_potenziani)s__Presbytis_potenziani,(Presbytis_hosei_hosei)s__Presbytis_hosei,s__Presbytis_frontata,s__Presbytis_chrysomelas,(Presbytis_femoralis_percura,Presbytis_femoralis_femoralis)s__Presbytis_femoralis,s__Presbytis_senex,s__Presbytis_sp_Pres2,unclassified_Presbytis)g__Presbytis,(s__Chlorocebus_aethiops_x_djamdjamensis,(Chlorocebus_aethiops_aethiops,Chlorocebus_aethiops_vervet)s__Chlorocebus_aethiops,s__Chlorocebus_cynosuros,(Chlorocebus_pygerythrus_pygerythrus,Chlorocebus_pygerythrus_hilgerti,Chlorocebus_pygerythrus_x_Chlorocebus_aethiops)s__Chlorocebus_pygerythrus,(Chlorocebus_tantalus_budgetti)s__Chlorocebus_tantalus,s__Chlorocebus_sabaeus,s__Chlorocebus_sp_LDS_2018,s__Chlorocebus_aethiops_x_Chlorocebus_pygerythrus,unclassified_Chlorocebus,s__Chlorocebus_sp_TH_2013,s__Chlorocebus_djamdjamensis,s__Chlorocebus_sp_MAS_2011)g__Chlorocebus,((Allochrocebus_preussi_preussi,Allochrocebus_preussi_insularis)s__Allochrocebus_preussi,s__Allochrocebus_lhoesti,s__Allochrocebus_solatus)g__Allochrocebus,(s__Pygathrix_cinerea,s__Pygathrix_nigripes,(Pygathrix_nemaeus_nemaeus)s__Pygathrix_nemaeus,s__Pygathrix_cinerea_2_RL_2012,s__Pygathrix_cinerea_1_RL_2012)g__Pygathrix,((Miopithecus_talapoin_talapoin)s__Miopithecus_talapoin,s__Miopithecus_ogouensis)g__Miopithecus,(s__Cercopithecidae_gen_sp)g__Cercopithecidae_gen_sp__S+,Colobinae,(s__Mandrillus_leucophaeus,s__Mandrillus_sphinx)g__Mandrillus,(s__Theropithecus_gelada)g__Theropithecus,(s__Erythrocebus_patas)g__Erythrocebus,Cercopithecinae,(s__Rhinopithecus_brelichi,s__Rhinopithecus_sp,s__Rhinopithecus_avunculus,unclassified_Rhinopithecus,s__Rhinopithecus_strykeri,s__Rhinopithecus_bieti_2_RL_2012,s__Rhinopithecus_bieti_1_RL_2012,s__Rhinopithecus_roxellana,s__Rhinopithecus_bieti)g__Rhinopithecus,(s__Allenopithecus_nigroviridis)g__Allenopithecus,((Piliocolobus_badius_temminckii,Piliocolobus_badius_badius)s__Piliocolobus_badius,s__Piliocolobus_preussi,s__Piliocolobus_pennantii,s__Piliocolobus_foai,s__Piliocolobus_kirkii,s__Piliocolobus_tephrosceles,s__Piliocolobus_tholloni,s__Piliocolobus_rufomitratus,s__Piliocolobus_gordonorum)g__Piliocolobus,(s__Procolobus_verus)g__Procolobus,(s__Nasalis_larvatus)g__Nasalis,(s__Simias_concolor)g__Simias,(s__Rungwecebus_kipunji)g__Rungwecebus)f__Cercopithecidae,((s__Microcebus_griseorufus,s__Microcebus_sambiranensis,s__Microcebus_berthae,s__Microcebus_myoxinus,s__Microcebus_murinus,s__Microcebus_lehilahytsara,s__Microcebus_sp_Anjiahely,s__Microcebus_macarthurii,s__Microcebus_sp_ANT5_1,s__Microcebus_sp_JM_2020,s__Microcebus_ganzhorni,s__Microcebus_sp_d_Ambre,s__Microcebus_marohita,s__Microcebus_tanosi,s__Microcebus_sp_3_GT_2019,s__Microcebus_sp_Maroakata,s__Microcebus_sp_Mahajamba_Est,s__Microcebus_sp_Bora,s__Microcebus_sp_Ambongabe,s__Microcebus_lokobensis,s__Microcebus_danfossi,s__Microcebus_bongolavensis,s__Microcebus_sp_south_Manambery,s__Microcebus_gerpi,s__Microcebus_jollyae,s__Microcebus_mittermeieri,s__Microcebus_simmonsi,s__Microcebus_rufus,s__Microcebus_ravelobensis,s__Microcebus_sp_mangabenensis,s__Microcebus_sp_manombonensis,s__Microcebus_sp_anosynensis,unclassified_Microcebus,s__Microcebus_sp_DWW_2010a,s__Microcebus_sp_EELHDZ_VEV35,s__Microcebus_tavaratra,s__Microcebus_sp_EELHDZ_VEV33,s__Microcebus_margotmarshae,s__Microcebus_arnholdi,s__Microcebus_sp_Antanosy,s__Microcebus_sp_EELHDZ_TAD23,s__Microcebus_sp_EELHDZ_M98,s__Microcebus_mamiratra)g__Microcebus,(unclassified_Mirza,s__Mirza_sp_001y03,s__Mirza_coquereli,s__Mirza_zaza)g__Mirza,(s__Phaner_furcifer,s__Phaner_pallescens,s__Phaner_parienti,s__Phaner_electromontis)g__Phaner,(s__Allocebus_trichotis)g__Allocebus,(s__Cheirogaleus_medius,s__Cheirogaleus_lavasoensis,s__Cheirogaleus_minusculus,s__Cheirogaleus_sibreei,s__Cheirogaleus_cf_medius_RW_2019,s__Cheirogaleus_crossleyi,s__Cheirogaleus_major)g__Cheirogaleus)f__Cheirogaleidae,(((Otolemur_garnettii_garnettii)s__Otolemur_garnettii,s__Otolemur_crassicaudatus,(Otolemur_monteiri_argentatus,Otolemur_monteiri_monteiri)s__Otolemur_monteiri)g__Otolemur,(s__Galago_moholi,(Galago_senegalensis_braccatus,Galago_senegalensis_senegalensis)s__Galago_senegalensis,s__Galago_granti,s__Galago_gabonensis,s__Galago_sp,unclassified_Galago,s__Galago_gallarum,s__Galago_matschiei,s__Galago_alleni)g__Galago,((Galagoides_zanzibaricus_zanzibaricus,Galagoides_zanzibaricus_udzungwensis)s__Galagoides_zanzibaricus,(Galagoides_demidoff_murinus)s__Galagoides_demidoff,s__Galagoides_rondoensis,s__Galagoides_thomasi,s__Galagoides_orinus,s__Galagoides_cocos)g__Galagoides,(s__Euoticus_elegantulus)g__Euoticus,(s__Paragalago_zanzibaricus,s__Paragalago_cocos)g__Paragalago)f__Galagidae,((s__Callithrix_sp_BJT022,s__Callithrix_sp_18_JM_2020,s__Callithrix_sp_17_JM_2020,s__Callithrix_sp_16_JM_2020,s__Callithrix_sp_12_JM_2020,s__Callithrix_sp_11_JM_2020,s__Callithrix_sp_10_JM_2020,s__Callithrix_sp_9_JM_2020,s__Callithrix_sp_8_JM_2020,s__Callithrix_sp,s__Callithrix_jacchus,s__Callithrix_sp_15_JM_2020,s__Callithrix_sp_14_JM_2020,s__Callithrix_sp_13_JM_2020,s__Callithrix_sp_7_JM_2020,s__Callithrix_sp_6_JM_2020,s__Callithrix_sp_5_JM_2020,s__Callithrix_sp_4_JM_2020,s__Callithrix_sp_3_JM_2020,s__Callithrix_sp_2_JM_2020,s__Callithrix_sp_1_JM_2020,unclassified_Callithrix,Calibella,s__Callithrix_kuhlii,s__Callithrix_geoffroyi,s__Callithrix_humilis,s__Callithrix_sp_DB_2003,s__Callithrix_flaviceps,s__Callithrix_jacchus_x_penicillata,s__Callithrix_penicillata,s__Callithrix_aurita)g__Callithrix,(s__Sapajus_libidinosus,s__Sapajus_sp_Pr035,(Sapajus_apella_macrocephalus,Sapajus_apella_apella)s__Sapajus_apella,(Sapajus_nigritus_robustus)s__Sapajus_nigritus,s__Sapajus_flavius,s__Sapajus_sp_M39_FD_2018,s__Sapajus_sp_M12_FD_2018,s__Sapajus_sp_M5_FD_2018,s__Sapajus_sp_22_FD_2018,s__Sapajus_sp_10_FD_2018,s__Sapajus_sp_9_FD_2018,s__Sapajus_xanthosternos,s__Sapajus_sp,s__Sapajus_cay,unclassified_Sapajus)g__Sapajus,Saimiriinae,(s__Mico_melanurus,s__Mico_emiliae,(Mico_argentatus_argentatus)s__Mico_argentatus,s__Mico_rondoni,s__Mico_chrysoleucus,s__Mico_humeralifer,s__Mico_saterei,s__Mico_cf_emiliae,s__Mico_munduruku,s__Mico_marcai,s__Mico_leucippe,s__Mico_intermedius,s__Mico_mauesi)g__Mico,((Saimiri_oerstedii_citrinellus,Saimiri_oerstedii_oerstedii)s__Saimiri_oerstedii,(Saimiri_sciureus_macrodon,Saimiri_sciureus_cassiquiarensis,Saimiri_sciureus_albigena,Saimiri_sciureus_sciureus,Saimiri_sciureus_collinsi)s__Saimiri_sciureus,(Saimiri_boliviensis_peruviensis,Saimiri_boliviensis_boliviensis)s__Saimiri_boliviensis,unclassified_Saimiri,s__Saimiri_sp_3_EG_2017,s__Saimiri_sp_2_EG_2017,s__Saimiri_sp_1_EG_2017,s__Saimiri_ustus,s__Saimiri_sp,s__Saimiri_vanzolinii,s__Saimiri_sp_MAS_2011)g__Saimiri,((Cebus_olivaceus_nigrivittatus,Cebus_olivaceus_castaneus)s__Cebus_olivaceus,unclassified_Cebus,s__Cebus_sp,s__Cebus_capucinus,s__Cebus_albifrons,s__Cebus_versicolor,s__Cebus_unicolor,s__Cebus_sp_2_EG_2017,s__Cebus_sp_1_EG_2017,s__Cebus_kaapori,s__Cebus_imitator,s__Cebus_sp_MAS_2011)g__Cebus,(s__Leontopithecus_rosalia,s__Leontopithecus_chrysopygus,s__Leontopithecus_chrysomelas)g__Leontopithecus,((Saguinus_midas_midas)s__Saguinus_midas,s__Saguinus_leucopus,s__Saguinus_inustus,s__Saguinus_oedipus_x_Saguinus_leucopus,s__Saguinus_geoffroyi_x_Saguinus_leucopus,(Saguinus_imperator_subgrisescens)s__Saguinus_imperator,s__Saguinus_oedipus,(Saguinus_mystax_mystax)s__Saguinus_mystax,s__Saguinus_sp_EG_2017,s__Saguinus_geoffroyi,(Saguinus_bicolor_bicolor)s__Saguinus_bicolor,(Saguinus_labiatus_labiatus)s__Saguinus_labiatus,s__Saguinus_graellsi,(Saguinus_melanoleucus_melanoleucus)s__Saguinus_melanoleucus,s__Saguinus_sp_T1030,s__Saguinus_sp,s__Saguinus_martinsi,s__Saguinus_niger,unclassified_Saguinus)g__Saguinus,(s__Leontocebus_tripartitus,(Leontocebus_fuscicollis_lagonotus,Leontocebus_fuscicollis_weddelli,Leontocebus_fuscicollis_nigrifrons,Leontocebus_fuscicollis_fuscicollis,Leontocebus_fuscicollis_illigeri,Leontocebus_fuscicollis_leucogenys)s__Leontocebus_fuscicollis,(Leontocebus_nigricollis_nigricollis)s__Leontocebus_nigricollis,s__Leontocebus_cruzlimai)g__Leontocebus,(s__Callimico_sp_MAS_2011,s__Callimico_goeldii,s__Callimico_sp,unclassified_Callimico)g__Callimico,(s__Cebuella_pygmaea,s__Cebuella_niveiventris)g__Cebuella,Callitrichinae,unclassified_Cebidae,Cebinae,(s__Aotinae_gen_sp)g__Aotinae_gen_sp__S+)f__Cebidae,(((Alouatta_belzebul_belzebul)s__Alouatta_belzebul,(Alouatta_guariba_clamitans)s__Alouatta_guariba,(Alouatta_seniculus_seniculus)s__Alouatta_seniculus,s__Alouatta_pigra,(Alouatta_palliata_aequatorialis,Alouatta_palliata_trabeata,Alouatta_palliata_palliata,Alouatta_palliata_coibensis,Alouatta_palliata_mexicana)s__Alouatta_palliata,s__Alouatta_palliata_x_Alouatta_pigra,s__Alouatta_macconnelli,s__Alouatta_stramineus,s__Alouatta_caraya,s__Alouatta_sara)g__Alouatta,(s__Lagothrix_sp_CCS_2009a,unclassified_Lagothrix,s__Lagothrix_lagotricha,s__Lagothrix_tschudii,s__Lagothrix_flavicauda,s__Lagothrix_sp_EG_2017,s__Lagothrix_cana,s__Lagothrix_poeppigii,s__Lagothrix_lugens)g__Lagothrix,(s__Brachyteles_arachnoides,s__Brachyteles_hypoxanthus)g__Brachyteles,((Ateles_geoffroyi_yucatanensis,Ateles_geoffroyi_vellerosus,Ateles_geoffroyi_panamensis,Ateles_geoffroyi_frontatus,Ateles_geoffroyi_azuerensis,Ateles_geoffroyi_ornatus)s__Ateles_geoffroyi,(Ateles_belzebuth_marginatus)s__Ateles_belzebuth,s__Ateles_chamek,(Ateles_hybridus_hybridus)s__Ateles_hybridus,unclassified_Ateles,s__Ateles_sp_KO_2004,s__Ateles_paniscus_x_Ateles_fusciceps,s__Ateles_sp,s__Ateles_paniscus,(Ateles_fusciceps_robustus,Ateles_fusciceps_rufiventris)s__Ateles_fusciceps,s__Ateles_sp_haplotype_Afr27,s__Ateles_sp_haplotype_Agp13,s__Ateles_sp_haplotype_Abh19,s__Ateles_sp_haplotype_Afr21,s__Ateles_sp_haplotype_Afr20,s__Ateles_sp_haplotype_Afr19,s__Ateles_sp_haplotype_Agsubspp_16,s__Ateles_sp_haplotype_Abh11,s__Ateles_sp_haplotype_Abh10,s__Ateles_sp_haplotype_Abh9,s__Ateles_sp_EG_2017,s__Ateles_sp_JPV_2004,s__Ateles_marginatus)g__Ateles,Atelinae,Alouattinae)f__Atelidae,((s__Chiropotes_albinasus,s__Chiropotes_sp_ZFMK_2008_244,s__Chiropotes_satanas_x_albinasus,s__Chiropotes_albinasus_x_satanas,s__Chiropotes_utahickae,s__Chiropotes_satanas,unclassified_Chiropotes,s__Chiropotes_sp_CTGAM5663,s__Chiropotes_sp,(Chiropotes_chiropotes_sagulata)s__Chiropotes_chiropotes,s__Chiropotes_sp_CTGAM5363,s__Chiropotes_israelita,s__Chiropotes_sp_MAS_2011)g__Chiropotes,(s__Pithecia_irrorata,s__Pithecia_aequatorialis,s__Pithecia_sp_UFPA_Pit22,s__Pithecia_sp,(Pithecia_pithecia_pithecia)s__Pithecia_pithecia,s__Pithecia_monachus,unclassified_Pithecia)g__Pithecia,((Cacajao_calvus_calvus,Cacajao_calvus_rubicundus,Cacajao_calvus_ucayalli,Cacajao_calvus_novaesi)s__Cacajao_calvus,s__Cacajao_rubicundus,s__Cacajao_melanocephalus,s__Cacajao_sp_CTGAM5666,unclassified_Cacajao,s__Cacajao_hosomi,s__Cacajao_ayresi)g__Cacajao,(s__Cheracebus_torquatus,s__Cheracebus_regulus,s__Cheracebus_lucifer,s__Cheracebus_lugens,s__Cheracebus_purinus)g__Cheracebus,(s__Plecturocebus_cupreus,s__Plecturocebus_miltoni,s__Plecturocebus_cinerascens,s__Plecturocebus_bernhardi,(Plecturocebus_donacophilus_donacophilus)s__Plecturocebus_donacophilus,s__Plecturocebus_vieirai,s__Plecturocebus_moloch,s__Plecturocebus_discolor,s__Plecturocebus_brunneus,s__Plecturocebus_caligatus,s__Plecturocebus_hoffmannsi,s__Plecturocebus_grovesi)g__Plecturocebus,(s__Callicebus_sp_MAS_2011,(Callicebus_personatus_personatus,Callicebus_personatus_nigrifrons)s__Callicebus_personatus,s__Callicebus_nigrifrons,s__Callicebus_coimbrai,s__Callicebus_sp_n_GD_2019,unclassified_Callicebus,s__Callicebus_sp,s__Callicebus_dubius,s__Callicebus_sp_2_MH_2016,s__Callicebus_sp_1_MH_2016,s__Callicebus_ornatus,s__Callicebus_caquetensis)g__Callicebus,Callicebinae,Pitheciinae,(s__Xenothrix_mcgregori)g__Xenothrix,Xenothricinae)f__Pitheciidae,((s__Hylobates_sp_KM_2020,s__Hylobates_agilis_x_Hylobates_albibarbis,(Hylobates_lar_vestitus,Hylobates_lar_lar,Hylobates_lar_entelloides,Hylobates_lar_carpenteri)s__Hylobates_lar,(Hylobates_muelleri_abbotti,Hylobates_muelleri_funereus,Hylobates_muelleri_muelleri)s__Hylobates_muelleri,s__Hylobates_albibarbis,(Hylobates_agilis_agilis,Hylobates_agilis_unko)s__Hylobates_agilis,s__Hylobates_sp_ECACC_MLA144,s__Hylobates_sp_OH_2017,s__Hylobates_moloch,s__Hylobates_pileatus,s__Hylobates_klossii,s__Hylobates_sp,unclassified_Hylobates,s__Hylobates_sp_TIB_201,s__Hylobates_sp_IGL_2004,s__Hylobates_sp_PS_2007,s__Hylobates_sp_AMA_2004)g__Hylobates,(s__Nomascus_leucogenys_x_Nomascus_gabriellae,(Nomascus_concolor_lu,Nomascus_concolor_concolor,Nomascus_concolor_furvogaster,Nomascus_concolor_jingdongensis)s__Nomascus_concolor,s__Nomascus_hainanus,s__Nomascus_nasutus,s__Nomascus_cf_leucogenys_SSH_2018,s__Nomascus_leucogenys_x_Nomascus_siki,s__Nomascus_gabriellae_x_Nomascus_siki,s__Nomascus_siki,s__Nomascus_leucogenys,s__Nomascus_gabriellae,s__Nomascus_annamensis)g__Nomascus,(s__Hoolock_leuconedys,s__Hoolock_leuconedys_x_Hoolock_tianxing,s__Hoolock_tianxing,s__Hoolock_hoolock)g__Hoolock,((Symphalangus_syndactylus_syndactylus)s__Symphalangus_syndactylus)g__Symphalangus)f__Hylobatidae,(((Propithecus_diadema_marshi,Propithecus_diadema_diadema)s__Propithecus_diadema,s__Propithecus_tattersalli,unclassified_Propithecus,s__Propithecus_candidus,s__Propithecus_edwardsi,s__Propithecus_sp,s__Propithecus_coquereli,(Propithecus_verreauxi_verreauxi)s__Propithecus_verreauxi,(Propithecus_deckenii_coronatus,Propithecus_deckenii_deckenii)s__Propithecus_deckenii,s__Propithecus_perrieri)g__Propithecus,(s__Hadropithecus_stenognathus)g__Hadropithecus,(s__Archaeolemur_edwardsi,s__Archaeolemur_majori)g__Archaeolemur,(s__Avahi_laniger,s__Avahi_occidentalis,s__Avahi_cleesei,s__Avahi_unicolor,s__Avahi_peyrierasi)g__Avahi,(s__Indri_indri)g__Indri)f__Indriidae,((unclassified_Palaeopropithecus,s__Palaeopropithecus_maximus,s__Palaeopropithecus_sp_KPK_2005,s__Palaeopropithecus_sp_UA6184,s__Palaeopropithecus_sp_UA4466,s__Palaeopropithecus_ingens)g__Palaeopropithecus)f__Paleopropithecidae,(((Hapalemur_griseus_JF2002,Hapalemur_griseus_alaotrensis,Hapalemur_griseus_griseus,Hapalemur_griseus_meridionalis,Hapalemur_griseus_occidentalis)s__Hapalemur_griseus,s__Hapalemur_aureus,s__Hapalemur_occidentalis)g__Hapalemur,((Eulemur_macaco_macaco)s__Eulemur_macaco,s__Eulemur_rufifrons,s__Eulemur_rufus,(Eulemur_fulvus_fulvus,Eulemur_fulvus_mayottensis,Eulemur_fulvus_albocollaris,Eulemur_fulvus_collaris)s__Eulemur_fulvus,s__Eulemur_sanfordi,s__Eulemur_coronatus,s__Eulemur_albifrons,s__Eulemur_flavifrons,s__Eulemur_cinereiceps,s__Eulemur_cinereiceps_x_rufifrons,s__Eulemur_albifrons_x_cinereiceps,s__Eulemur_albifrons_x_rufifrons,s__Eulemur_rubriventer,s__Eulemur_mongoz)g__Eulemur,(s__Lemur_sp,s__Lemur_catta,unclassified_Lemur)g__Lemur,((Varecia_variegata_variegata)s__Varecia_variegata,s__Varecia_rubra)g__Varecia,(s__Prolemur_simus)g__Prolemur,(s__Pachylemur_jullyi)g__Pachylemur)f__Lemuridae,((s__Lepilemur_sp_RANO234,s__Lepilemur_mittermeieri,unclassified_Lepilemur,s__Lepilemur_jamesorum,s__Lepilemur_sp_RANO235,s__Lepilemur_otto,s__Lepilemur_manasamody,s__Lepilemur_mustelinus,s__Lepilemur_hubbardorum,s__Lepilemur_sp_RANO236,s__Lepilemur_microdon,s__Lepilemur_ruficaudatus,s__Lepilemur_seali,s__Lepilemur_mitsinjoensis,s__Lepilemur_septentrionalis,s__Lepilemur_dorsalis,s__Lepilemur_sp_hubbardi,s__Lepilemur_edwardsi,s__Lepilemur_ankaranensis,s__Lepilemur_aeeclis,s__Lepilemur_sahamalazensis,s__Lepilemur_wrightae,s__Lepilemur_tymerlachsoni,s__Lepilemur_scottorum,s__Lepilemur_randrianasoloi,s__Lepilemur_petteri,s__Lepilemur_milanoii,s__Lepilemur_hollandorum,s__Lepilemur_grewcockorum,s__Lepilemur_fleuretae,s__Lepilemur_betsileo,s__Lepilemur_ahmansonorum,s__Lepilemur_leucopus)g__Lepilemur,(s__Megaladapis_sp,s__Megaladapis_edwardsi,unclassified_Megaladapis,s__Megaladapis_sp_UA4822,s__Megaladapis_sp_UA4821,s__Megaladapis_sp_UA4823,s__Megaladapis_sp_UA5482)g__Megaladapis)f__Lepilemuridae,((s__Daubentonia_madagascariensis)g__Daubentonia)f__Daubentoniidae,((s__Tarsius_sp,s__Tarsius_sangirensis,s__Tarsius_dentatus_x_lariang,s__Tarsius_lariang,s__Tarsius_sp_CD_2015,s__Tarsius_fuscus,s__Tarsius_sp_FFA_2009a,s__Tarsius_dentatus,s__Tarsius_tarsier,unclassified_Tarsius,s__Tarsius_wallacei)g__Tarsius,((Cephalopachus_bancanus_borneanus,Cephalopachus_bancanus_bancanus)s__Cephalopachus_bancanus)g__Cephalopachus,(s__Carlito_syrichta)g__Carlito)f__Tarsiidae,(((Aotus_azarai_azarai,Aotus_azarai_infulatus,Aotus_azarai_boliviensis)s__Aotus_azarai,s__Aotus_vociferans,s__Aotus_nigriceps,s__Aotus_griseimembra,s__Aotus_sp_LC_2012,s__Aotus_sp_Aot1,s__Aotus_sp_MAS_2011,s__Aotus_trivirgatus,s__Aotus_sp_NIM_2003,s__Aotus_brumbacki,s__Aotus_sp_AVB_2011,s__Aotus_sp_PDE_2004,s__Aotus_sp_SHM_2010,s__Aotus_sp,s__Aotus_nancymaae,unclassified_Aotus_in_Chordata,s__Aotus_lemurinus,s__Aotus_zonalis)g__Aotus)f__Aotidae,((s__Pongo_tapanuliensis,s__Pongo_sp,(Pongo_pygmaeus_pygmaeus,Pongo_pygmaeus_wurmbii,Pongo_pygmaeus_morio)s__Pongo_pygmaeus,s__Pongo_abelii,s__Pongo_abelii_x_pygmaeus,unclassified_Pongo)g__Pongo,((Pan_troglodytes_vellerosus,Pan_troglodytes_verus_x_troglodytes,Pan_troglodytes_ellioti,Pan_troglodytes_verus,Pan_troglodytes_troglodytes,Pan_troglodytes_schweinfurthii)s__Pan_troglodytes,s__Pan_paniscus)g__Pan,((Homo_sapiens_subsp_Denisova,Homo_sapiens_neanderthalensis)s__Homo_sapiens,s__Homo_heidelbergensis,s__Homo_sp,unclassified_Homo,s__Homo_sapiens_environmental_sample,environmental_samples)g__Homo,((Gorilla_beringei_graueri,Gorilla_beringei_beringei)s__Gorilla_beringei,(Gorilla_gorilla_gorilla,Gorilla_gorilla_uellensis,Gorilla_gorilla_diehli)s__Gorilla_gorilla)g__Gorilla,Ponginae,Homininae,(s__Homo_sapiens_x_Pan_troglodytes_tetraploid_cell_line)g__Homo_sapiens_x_Pan_troglodytes_tetraploid_cell_line__S+,Hominidae_intergeneric_hybrids)f__Hominidae,unclassified_Primates,((s__Nycticebus_javanicus,(Nycticebus_coucang_coucang,Nycticebus_coucang_insularis)s__Nycticebus_coucang,s__Nycticebus_menagensis,s__Nycticebus_bengalensis,s__Nycticebus_sp,unclassified_Nycticebus,s__Nycticebus_pygmaeus)g__Nycticebus,((Loris_lydekkerianus_lydekkerianus,Loris_lydekkerianus_malabaricus)s__Loris_lydekkerianus,(Loris_tardigradus_tardigradus,Loris_tardigradus_nordicus)s__Loris_tardigradus)g__Loris,(s__Arctocebus_calabarensis,s__Arctocebus_aureus)g__Arctocebus,((Perodicticus_potto_ibeanus,Perodicticus_potto_edwarsi)s__Perodicticus_potto)g__Perodicticus)f__Lorisidae,((s__Primates_sp_BOLD_AAO0053)g__Primates_sp_BOLD_AAO0053__S+)f__Primates_sp_BOLD_AAO0053__S+,((s__Primates_sp_BOLD_AAJ7304)g__Primates_sp_BOLD_AAJ7304__S+)f__Primates_sp_BOLD_AAJ7304__S+,((s__Primates_sp_BOLD_AAE4744)g__Primates_sp_BOLD_AAE4744__S+)f__Primates_sp_BOLD_AAE4744__S+,((s__Primates_sp_BOLD_AAC9009)g__Primates_sp_BOLD_AAC9009__S+)f__Primates_sp_BOLD_AAC9009__S+,((s__Primates_sp_BOLD_AAA0001)g__Primates_sp_BOLD_AAA0001__S+)f__Primates_sp_BOLD_AAA0001__S+,Catarrhini,Platyrrhini,((s__marmosets)g__marmosets__S+)f__marmosets__S+,((s__unidentified_monkey)g__unidentified_monkey__S+)f__unidentified_monkey__S+,Hominoidea,Cercopithecoidea,Simiiformes,((s__Primates_sp_BOLD_AAF0367)g__Primates_sp_BOLD_AAF0367__S+)f__Primates_sp_BOLD_AAF0367__S+,((s__Primates_sp_BOLD_AAD0215)g__Primates_sp_BOLD_AAD0215__S+)f__Primates_sp_BOLD_AAD0215__S+,((s__Primates_sp_BOLD_AAC7735)g__Primates_sp_BOLD_AAC7735__S+)f__Primates_sp_BOLD_AAC7735__S+,Lorisiformes,Chiromyiformes,Lemuriformes,Haplorrhini,Tarsiiformes,Strepsirrhini)o__Primates)c__Mammalia)p__Chordata)k__Metazoa)d__Eukaryota);\n",
      "\n"
     ]
    }
   ],
   "source": [
    "command = [\n",
    "    'python',\n",
    "    'iphylo.py',\n",
    "    'phylotree',\n",
    "    '--subtree',\n",
    "    'Primates'\n",
    "]\n",
    "\n",
    "result = subprocess.run(command, capture_output=True, text=True)\n",
    "file_path = 'iphylo_files/iPHYLO_Tree/iPHYLO_Tree.txt'\n",
    "with open(file_path, 'r') as file:\n",
    "    file_content = file.read()\n",
    "print(file_content)"
   ],
   "metadata": {
    "collapsed": false
   }
  },
  {
   "cell_type": "markdown",
   "source": [
    "## chemtree module\n",
    "In the chemtree module, you can generate a chemical taxonomic tree using the ChemOnt classification system based on the local database. This database includes 801,308 functional compounds compiled from the MONA, GNPS, and NIST databases.\n",
    "To view parameter help, please run the command  `python iphylo.py chemtree -h`.\n",
    "\n",
    "Usage:\n",
    "`iphylo.py chemtree [-h] (-i ITEMS | -f FILE) [-o PREFIX] [-fn FNAME] [-bl] [-interrupt (--Super | --Class | --Sub)] `\n",
    "\n",
    "In the chemical module, we recommend uploading compound information from a file. The accepted chemical identifiers for file uploads are InChIKey, InChI, and isomeric SMILES. When using the `-i` command to input data from the keyboard, only InChIKey is accepted.\n",
    "\n",
    "The followings are few demos:\n"
   ],
   "metadata": {
    "collapsed": false
   }
  },
  {
   "cell_type": "code",
   "execution_count": 26,
   "outputs": [
    {
     "name": "stdout",
     "output_type": "stream",
     "text": [
      "(((((498799,514138,918571,1110037)Alcohols_and_polyols)Organooxygen_compounds)Organic_oxygen_compounds,(((498798,506424,933921,1124895)Triradylcglycerols,(1201720,445446)Glycosylglycerols,(1063982,1194005)Diradylglycerols)Glycerolipids,((254057,514064)Glycosphingolipids,(246370)Phosphosphingolipids,(636000)Ceramides)Sphingolipids,((605797)Glycerophosphoserines,(544862,720469)Glycerophosphocholines,(323154,414746)Glycerophosphoglycerophosphoglycerols,(956983)Glycerophosphoethanolamines)Glycerophospholipids,((430159,537138,773676,712717,712712)Fatty_acid_esters)Fatty_Acyls,(1063981)Saccharolipids)Lipids_and_lipid_like_molecules,(((972354,1056314)Quaternary_ammonium_salts)Organonitrogen_compounds)Organic_nitrogen_compounds)Organic_compounds);\n",
      "\n"
     ]
    }
   ],
   "source": [
    "# Generate a chemical tree from files\n",
    "command = [\n",
    "    'python',\n",
    "    'iphylo.py',\n",
    "    'chemtree',\n",
    "    '-f',\n",
    "    'example/inchikeys.txt'\n",
    "]\n",
    "\n",
    "result = subprocess.run(command, capture_output=True, text=True)\n",
    "file_path = 'iphylo_files/iPHYLO_Tree/iPHYLO_Tree.txt'\n",
    "with open(file_path, 'r') as file:\n",
    "    file_content = file.read()\n",
    "print(file_content)"
   ],
   "metadata": {
    "collapsed": false
   }
  },
  {
   "cell_type": "markdown",
   "source": [
    "To avoid errors in Newick format parsing caused by symbols in the names of compounds in the chemical tree, use numerical identifiers for each input compound.\n",
    "\n",
    "The correspondence table between the IDs and compound classification information is available in the `items.csv` file."
   ],
   "metadata": {
    "collapsed": false
   }
  },
  {
   "cell_type": "code",
   "execution_count": 30,
   "outputs": [
    {
     "data": {
      "text/plain": "         id                                               name  \\\n0    602499                        N-Acetylserotonin - 40.0 eV   \n1      4232  Acetamide, N-[2-(6-hydroxy-5-methoxy-1H-indol-...   \n2    719369  1,2,3-.eta.-4,5,6-.eta.-Pentalenebis(cobalt di...   \n3      4233                 MLS000860057-01!6-Hydroxymelatonin   \n4    350601                                MLS001074886-01!BIO   \n5    444168  Pentan-1-one, 2-hydroxy-1-(2-hydroxy-3-indolyl...   \n6    299543  Butan-1-one, 1-(5-bromo-2-hydroxy-3-indolylazo...   \n7    376087  Pentan-1-one, 1-(5-bromo-2-hydroxy-3-indolylaz...   \n8    612254         1H-Indol-5-ol, 4-phenyl-3-(2-phenylethyl)-   \n9    612771  6-Hydroxy-3-[2-methyl-2-[2-hydroxy-3-(2-cyanop...   \n10  1009710    1H-Indol-2-ol, 5-bromo-3-(pyridin-4-ylmethoxy)-   \n11  1068596                                          indirubin   \n12   786741                           6-Hydroxy-2-methylindole   \n13   260534                   1H-Indol-5-ol, 3-hexyl-4-phenyl-   \n14   672184               1H-Indole-3-acetaldehyde, 5-hydroxy-   \n15   657597           4-Phenyl-3-(thiophen-2-yl)-1H-indol-5-ol   \n16   756671  3-Hydroxy-2,3-dihydro-1H-indol-2-one, N-acetyl...   \n17  1137088                                       2-Indolinone   \n18    16959                                            Indoxyl   \n19   594882                    1H-Indole-3-ethanol, 5-hydroxy-   \n20   594888                                5-Hydroxytryptophol   \n21    49098                                     Indigo Carmine   \n22   375500  2-(4-Amino-1-isopropyl-1H-pyrazolo[3,4-d]pyrim...   \n23   619853  Propan-1-one, 1-(5-bromo-2-hydroxy-3-indolylaz...   \n24   336856  Propan-1-one, 1-(2-hydroxy-3-indolylazo)-2-hyd...   \n25   487770                                          Roxindole   \n26  1109859  Dicobalt pentalene, bis[1,2-bis(diisopropylpho...   \n27   405219                        Indole-5-ol, 3-bromomethyl-   \n28   405859  3-(3-Hydroxy-1H-indol-2-yl)-2-(morpholin-4-ylc...   \n29   749161  3-[(3,5-Dimethyl-2H-pyrrol-2-ylidene)methyl]-1...   \n30    85354  Violacein; 3-(1,2-dihydro-5-(5-hydroxy-1H-indo...   \n31   694765                                      1H-Indol-4-ol   \n32   840558  6-Hydroxy-2,2,4,4-tetramethyl-1,2,3,4-tetrahyd...   \n33   236399                                 2-Methyl-4-indolol   \n34  1053040                                      1H-Indol-5-ol   \n35  1107958      Indole, 6-fluoro-2-hydroxy-5-methoxy-3-nitro-   \n36    20858               3-Hydroxy-2,3-dihydro-1H-indol-2-one   \n37   602494   Acetamide, N-[2-(5-hydroxy-1H-indol-3-yl)ethyl]-   \n38  1053055                                    5-HYDROXYINDOLE   \n\n                                                inchi  \\\n0                                                 NaN   \n1                                                 NaN   \n2                                                 NaN   \n3                                                 NaN   \n4                                                 NaN   \n5                                                 NaN   \n6                                                 NaN   \n7                                                 NaN   \n8                                                 NaN   \n9                                                 NaN   \n10                                                NaN   \n11  InChI=1S/C16H10N2O2/c19-15-10-6-2-4-8-12(10)17...   \n12                                                NaN   \n13                                                NaN   \n14                                                NaN   \n15                                                NaN   \n16                                                NaN   \n17                                                NaN   \n18  InChI=1S/C8H7NO/c10-8-5-9-7-4-2-1-3-6(7)8/h1-5...   \n19                                                NaN   \n20  InChI=1S/C10H11NO2/c12-4-3-7-6-11-10-2-1-8(13)...   \n21  InChI=1S/C16H10N2O2/c19-15-9-5-1-3-7-11(9)17-1...   \n22                                                NaN   \n23                                                NaN   \n24                                                NaN   \n25                                                NaN   \n26                                                NaN   \n27                                                NaN   \n28                                                NaN   \n29                                                NaN   \n30  InChI=1S/C20H13N3O3/c24-10-5-6-15-12(7-10)14(9...   \n31                                                NaN   \n32                                                NaN   \n33                                                NaN   \n34                                                NaN   \n35                                                NaN   \n36                                                NaN   \n37                                                NaN   \n38  \"InChI=1S/C8H7NO/c10-7-1-2-8-6(5-7)3-4-9-8/h1-...   \n\n                       inchikey  inchikey_Planar  \\\n0   MVAWJSIDNICKHF-UHFFFAOYSA-N              NaN   \n1   OMYMRCXOJJZYKE-UHFFFAOYSA-N              NaN   \n2   VTXICXWVUFRZHJ-UHFFFAOYSA-N              NaN   \n3   OMYMRCXOJJZYKE-UHFFFAOYSA-N              NaN   \n4   JBFAMTBDRIBCKO-UHFFFAOYSA-N              NaN   \n5   UGGBBXIKZRXTJW-VHEBQXMUSA-N              NaN   \n6   NCJVDEKFYQSEFS-ISLYRVAYSA-N              NaN   \n7   GUGHLEKVUFXOKN-FMQUCBEESA-N              NaN   \n8   GFIXGUSGVTTZKF-UHFFFAOYSA-N              NaN   \n9   IUKUBLQOWNHWPE-UHFFFAOYSA-N              NaN   \n10  DDWLUHSWARYGEI-UHFFFAOYSA-N              NaN   \n11  JNLNPCNGMHKCKO-UHFFFAOYSA-N              NaN   \n12  JKIGVFLHAJUPCP-UHFFFAOYSA-N              NaN   \n13  XHYVUFGJYIOBIA-UHFFFAOYSA-N              NaN   \n14  OBFAPCIUSYHFIE-UHFFFAOYSA-N              NaN   \n15  NORLCGZQCPEEMF-UHFFFAOYSA-N              NaN   \n16  USRHSLMLUBSAEI-UHFFFAOYSA-N              NaN   \n17  JHFAEUICJHBVHB-UHFFFAOYSA-N              NaN   \n18  PCKPVGOLPKLUHR-UHFFFAOYSA-N              NaN   \n19  KQROHCSYOGBQGJ-UHFFFAOYSA-N              NaN   \n20  KQROHCSYOGBQGJ-UHFFFAOYSA-N              NaN   \n21  QQILFGKZUJYXGS-UHFFFAOYSA-N              NaN   \n22  MFAQYJIYDMLAIM-UHFFFAOYSA-N              NaN   \n23  YOUBLMCQVNQCEM-FOCLMDBBSA-N              NaN   \n24  MLNNMNOOJPNTDZ-CCEZHUSRSA-N              NaN   \n25  HGEYJZMMUGWEOT-UHFFFAOYSA-N              NaN   \n26  RINFAHDGUSOFCD-UHFFFAOYSA-N              NaN   \n27  YDRNJOHGBZIGBM-UHFFFAOYSA-N              NaN   \n28  UKDTWJJCUFEKGG-PKNBQFBNSA-N              NaN   \n29  SIBNPBQTUXWRMZ-ZSOIEALJSA-N              NaN   \n30  SHLJIZCPRXXHHZ-UHFFFAOYSA-N              NaN   \n31  NLMQHXUGJIAKTH-UHFFFAOYSA-N              NaN   \n32  VIROFEQDUJPDTE-UHFFFAOYSA-N              NaN   \n33  XBVSGEGNQZAQPM-UHFFFAOYSA-N              NaN   \n34  LMIQERWZRIFWNZ-UHFFFAOYSA-N              NaN   \n35  UXXQWMQZNPLNCF-UHFFFAOYSA-N              NaN   \n36  PGNRLPTYNKQQDY-UHFFFAOYSA-N              NaN   \n37  MVAWJSIDNICKHF-UHFFFAOYSA-N              NaN   \n38  LMIQERWZRIFWNZ-UHFFFAOYSA-N              NaN   \n\n                                               SMILES            kingdom  \\\n0                        CC(=O)NCCc1c[nH]c2c1cc(cc2)O  Organic_compounds   \n1                                                 NaN  Organic_compounds   \n2                                                 NaN  Organic_compounds   \n3                      COc1cc2c(CCNC(=O)C)c[nH]c2cc1O  Organic_compounds   \n4          ON=C1C(=Nc2ccccc12)c3c(O)[nH]c4cc(Br)ccc34  Organic_compounds   \n5                                                 NaN  Organic_compounds   \n6                                                 NaN  Organic_compounds   \n7                                                 NaN  Organic_compounds   \n8                                                 NaN  Organic_compounds   \n9                                                 NaN  Organic_compounds   \n10                                                NaN  Organic_compounds   \n11        C1=CC=C2C(=C1)C(=C(N2)O)C3=NC4=CC=CC=C4C3=O  Organic_compounds   \n12                                                NaN  Organic_compounds   \n13                                                NaN  Organic_compounds   \n14                                                NaN  Organic_compounds   \n15                                                NaN  Organic_compounds   \n16                                                NaN  Organic_compounds   \n17                                                NaN  Organic_compounds   \n18                                 OC1=CNC2=CC=CC=C12  Organic_compounds   \n19                                                NaN  Organic_compounds   \n20                          C1=CC2=C(C=C1O)C(=CN2)CCO  Organic_compounds   \n21        C1=CC=C2C(=C1)C(=C(N2)C3=NC4=CC=CC=C4C3=O)O  Organic_compounds   \n22                                                NaN  Organic_compounds   \n23                                                NaN  Organic_compounds   \n24                                                NaN  Organic_compounds   \n25                                                NaN  Organic_compounds   \n26                                                NaN  Organic_compounds   \n27                                                NaN  Organic_compounds   \n28                                                NaN  Organic_compounds   \n29                                                NaN  Organic_compounds   \n30  C1=CC2=C(C(=O)N=C2C=C1)C3=C(NC(=C3)C4=CNC5=C4C...  Organic_compounds   \n31                                                NaN  Organic_compounds   \n32                                                NaN  Organic_compounds   \n33                                                NaN  Organic_compounds   \n34                                                NaN  Organic_compounds   \n35                                                NaN  Organic_compounds   \n36                                                NaN  Organic_compounds   \n37                                                NaN  Organic_compounds   \n38                               C1=CC2=C(C=CN2)C=C1O  Organic_compounds   \n\n                      superclass                     class        subclass  \\\n0   Organoheterocyclic_compounds   Indoles_and_derivatives  Hydroxyindoles   \n1   Organoheterocyclic_compounds   Indoles_and_derivatives  Hydroxyindoles   \n2                   Hydrocarbons  Unsaturated_hydrocarbons         Olefins   \n3   Organoheterocyclic_compounds   Indoles_and_derivatives  Hydroxyindoles   \n4   Organoheterocyclic_compounds   Indoles_and_derivatives  Hydroxyindoles   \n5   Organoheterocyclic_compounds   Indoles_and_derivatives  Hydroxyindoles   \n6   Organoheterocyclic_compounds   Indoles_and_derivatives  Hydroxyindoles   \n7   Organoheterocyclic_compounds   Indoles_and_derivatives  Hydroxyindoles   \n8   Organoheterocyclic_compounds   Indoles_and_derivatives  Hydroxyindoles   \n9   Organoheterocyclic_compounds   Indoles_and_derivatives  Hydroxyindoles   \n10  Organoheterocyclic_compounds   Indoles_and_derivatives  Hydroxyindoles   \n11  Organoheterocyclic_compounds   Indoles_and_derivatives  Hydroxyindoles   \n12  Organoheterocyclic_compounds   Indoles_and_derivatives  Hydroxyindoles   \n13  Organoheterocyclic_compounds   Indoles_and_derivatives  Hydroxyindoles   \n14  Organoheterocyclic_compounds   Indoles_and_derivatives  Hydroxyindoles   \n15  Organoheterocyclic_compounds   Indoles_and_derivatives  Hydroxyindoles   \n16  Organoheterocyclic_compounds   Indoles_and_derivatives  Hydroxyindoles   \n17  Organoheterocyclic_compounds   Indoles_and_derivatives  Hydroxyindoles   \n18  Organoheterocyclic_compounds   Indoles_and_derivatives  Hydroxyindoles   \n19  Organoheterocyclic_compounds   Indoles_and_derivatives  Hydroxyindoles   \n20  Organoheterocyclic_compounds   Indoles_and_derivatives  Hydroxyindoles   \n21  Organoheterocyclic_compounds   Indoles_and_derivatives  Hydroxyindoles   \n22  Organoheterocyclic_compounds   Indoles_and_derivatives  Hydroxyindoles   \n23  Organoheterocyclic_compounds   Indoles_and_derivatives  Hydroxyindoles   \n24  Organoheterocyclic_compounds   Indoles_and_derivatives  Hydroxyindoles   \n25  Organoheterocyclic_compounds   Indoles_and_derivatives  Hydroxyindoles   \n26                  Hydrocarbons  Unsaturated_hydrocarbons         Olefins   \n27  Organoheterocyclic_compounds   Indoles_and_derivatives  Hydroxyindoles   \n28  Organoheterocyclic_compounds   Indoles_and_derivatives  Hydroxyindoles   \n29  Organoheterocyclic_compounds   Indoles_and_derivatives  Hydroxyindoles   \n30  Organoheterocyclic_compounds   Indoles_and_derivatives  Hydroxyindoles   \n31  Organoheterocyclic_compounds   Indoles_and_derivatives  Hydroxyindoles   \n32  Organoheterocyclic_compounds   Indoles_and_derivatives  Hydroxyindoles   \n33  Organoheterocyclic_compounds   Indoles_and_derivatives  Hydroxyindoles   \n34  Organoheterocyclic_compounds   Indoles_and_derivatives  Hydroxyindoles   \n35  Organoheterocyclic_compounds   Indoles_and_derivatives  Hydroxyindoles   \n36  Organoheterocyclic_compounds   Indoles_and_derivatives  Hydroxyindoles   \n37  Organoheterocyclic_compounds   Indoles_and_derivatives  Hydroxyindoles   \n38  Organoheterocyclic_compounds   Indoles_and_derivatives  Hydroxyindoles   \n\n    parent_level_1 parent_level_2  \n0              NaN            NaN  \n1              NaN            NaN  \n2   Cyclic_olefins     Pentalenes  \n3              NaN            NaN  \n4              NaN            NaN  \n5              NaN            NaN  \n6              NaN            NaN  \n7              NaN            NaN  \n8              NaN            NaN  \n9              NaN            NaN  \n10             NaN            NaN  \n11             NaN            NaN  \n12             NaN            NaN  \n13             NaN            NaN  \n14             NaN            NaN  \n15             NaN            NaN  \n16             NaN            NaN  \n17             NaN            NaN  \n18             NaN            NaN  \n19             NaN            NaN  \n20             NaN            NaN  \n21             NaN            NaN  \n22             NaN            NaN  \n23             NaN            NaN  \n24             NaN            NaN  \n25             NaN            NaN  \n26  Cyclic_olefins     Pentalenes  \n27             NaN            NaN  \n28             NaN            NaN  \n29             NaN            NaN  \n30             NaN            NaN  \n31             NaN            NaN  \n32             NaN            NaN  \n33             NaN            NaN  \n34             NaN            NaN  \n35             NaN            NaN  \n36             NaN            NaN  \n37             NaN            NaN  \n38             NaN            NaN  ",
      "text/html": "<div>\n<style scoped>\n    .dataframe tbody tr th:only-of-type {\n        vertical-align: middle;\n    }\n\n    .dataframe tbody tr th {\n        vertical-align: top;\n    }\n\n    .dataframe thead th {\n        text-align: right;\n    }\n</style>\n<table border=\"1\" class=\"dataframe\">\n  <thead>\n    <tr style=\"text-align: right;\">\n      <th></th>\n      <th>id</th>\n      <th>name</th>\n      <th>inchi</th>\n      <th>inchikey</th>\n      <th>inchikey_Planar</th>\n      <th>SMILES</th>\n      <th>kingdom</th>\n      <th>superclass</th>\n      <th>class</th>\n      <th>subclass</th>\n      <th>parent_level_1</th>\n      <th>parent_level_2</th>\n    </tr>\n  </thead>\n  <tbody>\n    <tr>\n      <th>0</th>\n      <td>602499</td>\n      <td>N-Acetylserotonin - 40.0 eV</td>\n      <td>NaN</td>\n      <td>MVAWJSIDNICKHF-UHFFFAOYSA-N</td>\n      <td>NaN</td>\n      <td>CC(=O)NCCc1c[nH]c2c1cc(cc2)O</td>\n      <td>Organic_compounds</td>\n      <td>Organoheterocyclic_compounds</td>\n      <td>Indoles_and_derivatives</td>\n      <td>Hydroxyindoles</td>\n      <td>NaN</td>\n      <td>NaN</td>\n    </tr>\n    <tr>\n      <th>1</th>\n      <td>4232</td>\n      <td>Acetamide, N-[2-(6-hydroxy-5-methoxy-1H-indol-...</td>\n      <td>NaN</td>\n      <td>OMYMRCXOJJZYKE-UHFFFAOYSA-N</td>\n      <td>NaN</td>\n      <td>NaN</td>\n      <td>Organic_compounds</td>\n      <td>Organoheterocyclic_compounds</td>\n      <td>Indoles_and_derivatives</td>\n      <td>Hydroxyindoles</td>\n      <td>NaN</td>\n      <td>NaN</td>\n    </tr>\n    <tr>\n      <th>2</th>\n      <td>719369</td>\n      <td>1,2,3-.eta.-4,5,6-.eta.-Pentalenebis(cobalt di...</td>\n      <td>NaN</td>\n      <td>VTXICXWVUFRZHJ-UHFFFAOYSA-N</td>\n      <td>NaN</td>\n      <td>NaN</td>\n      <td>Organic_compounds</td>\n      <td>Hydrocarbons</td>\n      <td>Unsaturated_hydrocarbons</td>\n      <td>Olefins</td>\n      <td>Cyclic_olefins</td>\n      <td>Pentalenes</td>\n    </tr>\n    <tr>\n      <th>3</th>\n      <td>4233</td>\n      <td>MLS000860057-01!6-Hydroxymelatonin</td>\n      <td>NaN</td>\n      <td>OMYMRCXOJJZYKE-UHFFFAOYSA-N</td>\n      <td>NaN</td>\n      <td>COc1cc2c(CCNC(=O)C)c[nH]c2cc1O</td>\n      <td>Organic_compounds</td>\n      <td>Organoheterocyclic_compounds</td>\n      <td>Indoles_and_derivatives</td>\n      <td>Hydroxyindoles</td>\n      <td>NaN</td>\n      <td>NaN</td>\n    </tr>\n    <tr>\n      <th>4</th>\n      <td>350601</td>\n      <td>MLS001074886-01!BIO</td>\n      <td>NaN</td>\n      <td>JBFAMTBDRIBCKO-UHFFFAOYSA-N</td>\n      <td>NaN</td>\n      <td>ON=C1C(=Nc2ccccc12)c3c(O)[nH]c4cc(Br)ccc34</td>\n      <td>Organic_compounds</td>\n      <td>Organoheterocyclic_compounds</td>\n      <td>Indoles_and_derivatives</td>\n      <td>Hydroxyindoles</td>\n      <td>NaN</td>\n      <td>NaN</td>\n    </tr>\n    <tr>\n      <th>5</th>\n      <td>444168</td>\n      <td>Pentan-1-one, 2-hydroxy-1-(2-hydroxy-3-indolyl...</td>\n      <td>NaN</td>\n      <td>UGGBBXIKZRXTJW-VHEBQXMUSA-N</td>\n      <td>NaN</td>\n      <td>NaN</td>\n      <td>Organic_compounds</td>\n      <td>Organoheterocyclic_compounds</td>\n      <td>Indoles_and_derivatives</td>\n      <td>Hydroxyindoles</td>\n      <td>NaN</td>\n      <td>NaN</td>\n    </tr>\n    <tr>\n      <th>6</th>\n      <td>299543</td>\n      <td>Butan-1-one, 1-(5-bromo-2-hydroxy-3-indolylazo...</td>\n      <td>NaN</td>\n      <td>NCJVDEKFYQSEFS-ISLYRVAYSA-N</td>\n      <td>NaN</td>\n      <td>NaN</td>\n      <td>Organic_compounds</td>\n      <td>Organoheterocyclic_compounds</td>\n      <td>Indoles_and_derivatives</td>\n      <td>Hydroxyindoles</td>\n      <td>NaN</td>\n      <td>NaN</td>\n    </tr>\n    <tr>\n      <th>7</th>\n      <td>376087</td>\n      <td>Pentan-1-one, 1-(5-bromo-2-hydroxy-3-indolylaz...</td>\n      <td>NaN</td>\n      <td>GUGHLEKVUFXOKN-FMQUCBEESA-N</td>\n      <td>NaN</td>\n      <td>NaN</td>\n      <td>Organic_compounds</td>\n      <td>Organoheterocyclic_compounds</td>\n      <td>Indoles_and_derivatives</td>\n      <td>Hydroxyindoles</td>\n      <td>NaN</td>\n      <td>NaN</td>\n    </tr>\n    <tr>\n      <th>8</th>\n      <td>612254</td>\n      <td>1H-Indol-5-ol, 4-phenyl-3-(2-phenylethyl)-</td>\n      <td>NaN</td>\n      <td>GFIXGUSGVTTZKF-UHFFFAOYSA-N</td>\n      <td>NaN</td>\n      <td>NaN</td>\n      <td>Organic_compounds</td>\n      <td>Organoheterocyclic_compounds</td>\n      <td>Indoles_and_derivatives</td>\n      <td>Hydroxyindoles</td>\n      <td>NaN</td>\n      <td>NaN</td>\n    </tr>\n    <tr>\n      <th>9</th>\n      <td>612771</td>\n      <td>6-Hydroxy-3-[2-methyl-2-[2-hydroxy-3-(2-cyanop...</td>\n      <td>NaN</td>\n      <td>IUKUBLQOWNHWPE-UHFFFAOYSA-N</td>\n      <td>NaN</td>\n      <td>NaN</td>\n      <td>Organic_compounds</td>\n      <td>Organoheterocyclic_compounds</td>\n      <td>Indoles_and_derivatives</td>\n      <td>Hydroxyindoles</td>\n      <td>NaN</td>\n      <td>NaN</td>\n    </tr>\n    <tr>\n      <th>10</th>\n      <td>1009710</td>\n      <td>1H-Indol-2-ol, 5-bromo-3-(pyridin-4-ylmethoxy)-</td>\n      <td>NaN</td>\n      <td>DDWLUHSWARYGEI-UHFFFAOYSA-N</td>\n      <td>NaN</td>\n      <td>NaN</td>\n      <td>Organic_compounds</td>\n      <td>Organoheterocyclic_compounds</td>\n      <td>Indoles_and_derivatives</td>\n      <td>Hydroxyindoles</td>\n      <td>NaN</td>\n      <td>NaN</td>\n    </tr>\n    <tr>\n      <th>11</th>\n      <td>1068596</td>\n      <td>indirubin</td>\n      <td>InChI=1S/C16H10N2O2/c19-15-10-6-2-4-8-12(10)17...</td>\n      <td>JNLNPCNGMHKCKO-UHFFFAOYSA-N</td>\n      <td>NaN</td>\n      <td>C1=CC=C2C(=C1)C(=C(N2)O)C3=NC4=CC=CC=C4C3=O</td>\n      <td>Organic_compounds</td>\n      <td>Organoheterocyclic_compounds</td>\n      <td>Indoles_and_derivatives</td>\n      <td>Hydroxyindoles</td>\n      <td>NaN</td>\n      <td>NaN</td>\n    </tr>\n    <tr>\n      <th>12</th>\n      <td>786741</td>\n      <td>6-Hydroxy-2-methylindole</td>\n      <td>NaN</td>\n      <td>JKIGVFLHAJUPCP-UHFFFAOYSA-N</td>\n      <td>NaN</td>\n      <td>NaN</td>\n      <td>Organic_compounds</td>\n      <td>Organoheterocyclic_compounds</td>\n      <td>Indoles_and_derivatives</td>\n      <td>Hydroxyindoles</td>\n      <td>NaN</td>\n      <td>NaN</td>\n    </tr>\n    <tr>\n      <th>13</th>\n      <td>260534</td>\n      <td>1H-Indol-5-ol, 3-hexyl-4-phenyl-</td>\n      <td>NaN</td>\n      <td>XHYVUFGJYIOBIA-UHFFFAOYSA-N</td>\n      <td>NaN</td>\n      <td>NaN</td>\n      <td>Organic_compounds</td>\n      <td>Organoheterocyclic_compounds</td>\n      <td>Indoles_and_derivatives</td>\n      <td>Hydroxyindoles</td>\n      <td>NaN</td>\n      <td>NaN</td>\n    </tr>\n    <tr>\n      <th>14</th>\n      <td>672184</td>\n      <td>1H-Indole-3-acetaldehyde, 5-hydroxy-</td>\n      <td>NaN</td>\n      <td>OBFAPCIUSYHFIE-UHFFFAOYSA-N</td>\n      <td>NaN</td>\n      <td>NaN</td>\n      <td>Organic_compounds</td>\n      <td>Organoheterocyclic_compounds</td>\n      <td>Indoles_and_derivatives</td>\n      <td>Hydroxyindoles</td>\n      <td>NaN</td>\n      <td>NaN</td>\n    </tr>\n    <tr>\n      <th>15</th>\n      <td>657597</td>\n      <td>4-Phenyl-3-(thiophen-2-yl)-1H-indol-5-ol</td>\n      <td>NaN</td>\n      <td>NORLCGZQCPEEMF-UHFFFAOYSA-N</td>\n      <td>NaN</td>\n      <td>NaN</td>\n      <td>Organic_compounds</td>\n      <td>Organoheterocyclic_compounds</td>\n      <td>Indoles_and_derivatives</td>\n      <td>Hydroxyindoles</td>\n      <td>NaN</td>\n      <td>NaN</td>\n    </tr>\n    <tr>\n      <th>16</th>\n      <td>756671</td>\n      <td>3-Hydroxy-2,3-dihydro-1H-indol-2-one, N-acetyl...</td>\n      <td>NaN</td>\n      <td>USRHSLMLUBSAEI-UHFFFAOYSA-N</td>\n      <td>NaN</td>\n      <td>NaN</td>\n      <td>Organic_compounds</td>\n      <td>Organoheterocyclic_compounds</td>\n      <td>Indoles_and_derivatives</td>\n      <td>Hydroxyindoles</td>\n      <td>NaN</td>\n      <td>NaN</td>\n    </tr>\n    <tr>\n      <th>17</th>\n      <td>1137088</td>\n      <td>2-Indolinone</td>\n      <td>NaN</td>\n      <td>JHFAEUICJHBVHB-UHFFFAOYSA-N</td>\n      <td>NaN</td>\n      <td>NaN</td>\n      <td>Organic_compounds</td>\n      <td>Organoheterocyclic_compounds</td>\n      <td>Indoles_and_derivatives</td>\n      <td>Hydroxyindoles</td>\n      <td>NaN</td>\n      <td>NaN</td>\n    </tr>\n    <tr>\n      <th>18</th>\n      <td>16959</td>\n      <td>Indoxyl</td>\n      <td>InChI=1S/C8H7NO/c10-8-5-9-7-4-2-1-3-6(7)8/h1-5...</td>\n      <td>PCKPVGOLPKLUHR-UHFFFAOYSA-N</td>\n      <td>NaN</td>\n      <td>OC1=CNC2=CC=CC=C12</td>\n      <td>Organic_compounds</td>\n      <td>Organoheterocyclic_compounds</td>\n      <td>Indoles_and_derivatives</td>\n      <td>Hydroxyindoles</td>\n      <td>NaN</td>\n      <td>NaN</td>\n    </tr>\n    <tr>\n      <th>19</th>\n      <td>594882</td>\n      <td>1H-Indole-3-ethanol, 5-hydroxy-</td>\n      <td>NaN</td>\n      <td>KQROHCSYOGBQGJ-UHFFFAOYSA-N</td>\n      <td>NaN</td>\n      <td>NaN</td>\n      <td>Organic_compounds</td>\n      <td>Organoheterocyclic_compounds</td>\n      <td>Indoles_and_derivatives</td>\n      <td>Hydroxyindoles</td>\n      <td>NaN</td>\n      <td>NaN</td>\n    </tr>\n    <tr>\n      <th>20</th>\n      <td>594888</td>\n      <td>5-Hydroxytryptophol</td>\n      <td>InChI=1S/C10H11NO2/c12-4-3-7-6-11-10-2-1-8(13)...</td>\n      <td>KQROHCSYOGBQGJ-UHFFFAOYSA-N</td>\n      <td>NaN</td>\n      <td>C1=CC2=C(C=C1O)C(=CN2)CCO</td>\n      <td>Organic_compounds</td>\n      <td>Organoheterocyclic_compounds</td>\n      <td>Indoles_and_derivatives</td>\n      <td>Hydroxyindoles</td>\n      <td>NaN</td>\n      <td>NaN</td>\n    </tr>\n    <tr>\n      <th>21</th>\n      <td>49098</td>\n      <td>Indigo Carmine</td>\n      <td>InChI=1S/C16H10N2O2/c19-15-9-5-1-3-7-11(9)17-1...</td>\n      <td>QQILFGKZUJYXGS-UHFFFAOYSA-N</td>\n      <td>NaN</td>\n      <td>C1=CC=C2C(=C1)C(=C(N2)C3=NC4=CC=CC=C4C3=O)O</td>\n      <td>Organic_compounds</td>\n      <td>Organoheterocyclic_compounds</td>\n      <td>Indoles_and_derivatives</td>\n      <td>Hydroxyindoles</td>\n      <td>NaN</td>\n      <td>NaN</td>\n    </tr>\n    <tr>\n      <th>22</th>\n      <td>375500</td>\n      <td>2-(4-Amino-1-isopropyl-1H-pyrazolo[3,4-d]pyrim...</td>\n      <td>NaN</td>\n      <td>MFAQYJIYDMLAIM-UHFFFAOYSA-N</td>\n      <td>NaN</td>\n      <td>NaN</td>\n      <td>Organic_compounds</td>\n      <td>Organoheterocyclic_compounds</td>\n      <td>Indoles_and_derivatives</td>\n      <td>Hydroxyindoles</td>\n      <td>NaN</td>\n      <td>NaN</td>\n    </tr>\n    <tr>\n      <th>23</th>\n      <td>619853</td>\n      <td>Propan-1-one, 1-(5-bromo-2-hydroxy-3-indolylaz...</td>\n      <td>NaN</td>\n      <td>YOUBLMCQVNQCEM-FOCLMDBBSA-N</td>\n      <td>NaN</td>\n      <td>NaN</td>\n      <td>Organic_compounds</td>\n      <td>Organoheterocyclic_compounds</td>\n      <td>Indoles_and_derivatives</td>\n      <td>Hydroxyindoles</td>\n      <td>NaN</td>\n      <td>NaN</td>\n    </tr>\n    <tr>\n      <th>24</th>\n      <td>336856</td>\n      <td>Propan-1-one, 1-(2-hydroxy-3-indolylazo)-2-hyd...</td>\n      <td>NaN</td>\n      <td>MLNNMNOOJPNTDZ-CCEZHUSRSA-N</td>\n      <td>NaN</td>\n      <td>NaN</td>\n      <td>Organic_compounds</td>\n      <td>Organoheterocyclic_compounds</td>\n      <td>Indoles_and_derivatives</td>\n      <td>Hydroxyindoles</td>\n      <td>NaN</td>\n      <td>NaN</td>\n    </tr>\n    <tr>\n      <th>25</th>\n      <td>487770</td>\n      <td>Roxindole</td>\n      <td>NaN</td>\n      <td>HGEYJZMMUGWEOT-UHFFFAOYSA-N</td>\n      <td>NaN</td>\n      <td>NaN</td>\n      <td>Organic_compounds</td>\n      <td>Organoheterocyclic_compounds</td>\n      <td>Indoles_and_derivatives</td>\n      <td>Hydroxyindoles</td>\n      <td>NaN</td>\n      <td>NaN</td>\n    </tr>\n    <tr>\n      <th>26</th>\n      <td>1109859</td>\n      <td>Dicobalt pentalene, bis[1,2-bis(diisopropylpho...</td>\n      <td>NaN</td>\n      <td>RINFAHDGUSOFCD-UHFFFAOYSA-N</td>\n      <td>NaN</td>\n      <td>NaN</td>\n      <td>Organic_compounds</td>\n      <td>Hydrocarbons</td>\n      <td>Unsaturated_hydrocarbons</td>\n      <td>Olefins</td>\n      <td>Cyclic_olefins</td>\n      <td>Pentalenes</td>\n    </tr>\n    <tr>\n      <th>27</th>\n      <td>405219</td>\n      <td>Indole-5-ol, 3-bromomethyl-</td>\n      <td>NaN</td>\n      <td>YDRNJOHGBZIGBM-UHFFFAOYSA-N</td>\n      <td>NaN</td>\n      <td>NaN</td>\n      <td>Organic_compounds</td>\n      <td>Organoheterocyclic_compounds</td>\n      <td>Indoles_and_derivatives</td>\n      <td>Hydroxyindoles</td>\n      <td>NaN</td>\n      <td>NaN</td>\n    </tr>\n    <tr>\n      <th>28</th>\n      <td>405859</td>\n      <td>3-(3-Hydroxy-1H-indol-2-yl)-2-(morpholin-4-ylc...</td>\n      <td>NaN</td>\n      <td>UKDTWJJCUFEKGG-PKNBQFBNSA-N</td>\n      <td>NaN</td>\n      <td>NaN</td>\n      <td>Organic_compounds</td>\n      <td>Organoheterocyclic_compounds</td>\n      <td>Indoles_and_derivatives</td>\n      <td>Hydroxyindoles</td>\n      <td>NaN</td>\n      <td>NaN</td>\n    </tr>\n    <tr>\n      <th>29</th>\n      <td>749161</td>\n      <td>3-[(3,5-Dimethyl-2H-pyrrol-2-ylidene)methyl]-1...</td>\n      <td>NaN</td>\n      <td>SIBNPBQTUXWRMZ-ZSOIEALJSA-N</td>\n      <td>NaN</td>\n      <td>NaN</td>\n      <td>Organic_compounds</td>\n      <td>Organoheterocyclic_compounds</td>\n      <td>Indoles_and_derivatives</td>\n      <td>Hydroxyindoles</td>\n      <td>NaN</td>\n      <td>NaN</td>\n    </tr>\n    <tr>\n      <th>30</th>\n      <td>85354</td>\n      <td>Violacein; 3-(1,2-dihydro-5-(5-hydroxy-1H-indo...</td>\n      <td>InChI=1S/C20H13N3O3/c24-10-5-6-15-12(7-10)14(9...</td>\n      <td>SHLJIZCPRXXHHZ-UHFFFAOYSA-N</td>\n      <td>NaN</td>\n      <td>C1=CC2=C(C(=O)N=C2C=C1)C3=C(NC(=C3)C4=CNC5=C4C...</td>\n      <td>Organic_compounds</td>\n      <td>Organoheterocyclic_compounds</td>\n      <td>Indoles_and_derivatives</td>\n      <td>Hydroxyindoles</td>\n      <td>NaN</td>\n      <td>NaN</td>\n    </tr>\n    <tr>\n      <th>31</th>\n      <td>694765</td>\n      <td>1H-Indol-4-ol</td>\n      <td>NaN</td>\n      <td>NLMQHXUGJIAKTH-UHFFFAOYSA-N</td>\n      <td>NaN</td>\n      <td>NaN</td>\n      <td>Organic_compounds</td>\n      <td>Organoheterocyclic_compounds</td>\n      <td>Indoles_and_derivatives</td>\n      <td>Hydroxyindoles</td>\n      <td>NaN</td>\n      <td>NaN</td>\n    </tr>\n    <tr>\n      <th>32</th>\n      <td>840558</td>\n      <td>6-Hydroxy-2,2,4,4-tetramethyl-1,2,3,4-tetrahyd...</td>\n      <td>NaN</td>\n      <td>VIROFEQDUJPDTE-UHFFFAOYSA-N</td>\n      <td>NaN</td>\n      <td>NaN</td>\n      <td>Organic_compounds</td>\n      <td>Organoheterocyclic_compounds</td>\n      <td>Indoles_and_derivatives</td>\n      <td>Hydroxyindoles</td>\n      <td>NaN</td>\n      <td>NaN</td>\n    </tr>\n    <tr>\n      <th>33</th>\n      <td>236399</td>\n      <td>2-Methyl-4-indolol</td>\n      <td>NaN</td>\n      <td>XBVSGEGNQZAQPM-UHFFFAOYSA-N</td>\n      <td>NaN</td>\n      <td>NaN</td>\n      <td>Organic_compounds</td>\n      <td>Organoheterocyclic_compounds</td>\n      <td>Indoles_and_derivatives</td>\n      <td>Hydroxyindoles</td>\n      <td>NaN</td>\n      <td>NaN</td>\n    </tr>\n    <tr>\n      <th>34</th>\n      <td>1053040</td>\n      <td>1H-Indol-5-ol</td>\n      <td>NaN</td>\n      <td>LMIQERWZRIFWNZ-UHFFFAOYSA-N</td>\n      <td>NaN</td>\n      <td>NaN</td>\n      <td>Organic_compounds</td>\n      <td>Organoheterocyclic_compounds</td>\n      <td>Indoles_and_derivatives</td>\n      <td>Hydroxyindoles</td>\n      <td>NaN</td>\n      <td>NaN</td>\n    </tr>\n    <tr>\n      <th>35</th>\n      <td>1107958</td>\n      <td>Indole, 6-fluoro-2-hydroxy-5-methoxy-3-nitro-</td>\n      <td>NaN</td>\n      <td>UXXQWMQZNPLNCF-UHFFFAOYSA-N</td>\n      <td>NaN</td>\n      <td>NaN</td>\n      <td>Organic_compounds</td>\n      <td>Organoheterocyclic_compounds</td>\n      <td>Indoles_and_derivatives</td>\n      <td>Hydroxyindoles</td>\n      <td>NaN</td>\n      <td>NaN</td>\n    </tr>\n    <tr>\n      <th>36</th>\n      <td>20858</td>\n      <td>3-Hydroxy-2,3-dihydro-1H-indol-2-one</td>\n      <td>NaN</td>\n      <td>PGNRLPTYNKQQDY-UHFFFAOYSA-N</td>\n      <td>NaN</td>\n      <td>NaN</td>\n      <td>Organic_compounds</td>\n      <td>Organoheterocyclic_compounds</td>\n      <td>Indoles_and_derivatives</td>\n      <td>Hydroxyindoles</td>\n      <td>NaN</td>\n      <td>NaN</td>\n    </tr>\n    <tr>\n      <th>37</th>\n      <td>602494</td>\n      <td>Acetamide, N-[2-(5-hydroxy-1H-indol-3-yl)ethyl]-</td>\n      <td>NaN</td>\n      <td>MVAWJSIDNICKHF-UHFFFAOYSA-N</td>\n      <td>NaN</td>\n      <td>NaN</td>\n      <td>Organic_compounds</td>\n      <td>Organoheterocyclic_compounds</td>\n      <td>Indoles_and_derivatives</td>\n      <td>Hydroxyindoles</td>\n      <td>NaN</td>\n      <td>NaN</td>\n    </tr>\n    <tr>\n      <th>38</th>\n      <td>1053055</td>\n      <td>5-HYDROXYINDOLE</td>\n      <td>\"InChI=1S/C8H7NO/c10-7-1-2-8-6(5-7)3-4-9-8/h1-...</td>\n      <td>LMIQERWZRIFWNZ-UHFFFAOYSA-N</td>\n      <td>NaN</td>\n      <td>C1=CC2=C(C=CN2)C=C1O</td>\n      <td>Organic_compounds</td>\n      <td>Organoheterocyclic_compounds</td>\n      <td>Indoles_and_derivatives</td>\n      <td>Hydroxyindoles</td>\n      <td>NaN</td>\n      <td>NaN</td>\n    </tr>\n  </tbody>\n</table>\n</div>"
     },
     "execution_count": 30,
     "metadata": {},
     "output_type": "execute_result"
    }
   ],
   "source": [
    "import pandas as pd\n",
    "file_path = 'iphylo_files/iPHYLO_Tree/iPHYLO_Tree_items.csv'\n",
    "df = pd.read_csv(file_path)\n",
    "df"
   ],
   "metadata": {
    "collapsed": false
   }
  },
  {
   "cell_type": "markdown",
   "source": [
    "The chemical taxonomic tree, as structured by the ChemOnt classification system, organizes compounds hierarchically from the highest to the lowest levels: Kingdom, Superclass, Class, Subclass, Parent Level 1, and Parent Level 2.\n",
    "\n",
    "In this use case, we interrupt the result tree at Class level."
   ],
   "metadata": {
    "collapsed": false
   }
  },
  {
   "cell_type": "code",
   "execution_count": 27,
   "outputs": [
    {
     "name": "stdout",
     "output_type": "stream",
     "text": [
      "((((918571,1110037,514138,498799)Organooxygen_compounds)Organic_oxygen_compounds,((933921,1194005,1124895,1063982,445446,498798,506424,1201720)Glycerolipids,(956983,605797,414746,544862,720469,323154)Glycerophospholipids,(636000,254057,246370,514064)Sphingolipids,(773676,430159,537138,712717,712712)Fatty_Acyls,(1063981)Saccharolipids)Lipids_and_lipid_like_molecules,((972354,1056314)Organonitrogen_compounds)Organic_nitrogen_compounds)Organic_compounds);\n",
      "\n"
     ]
    }
   ],
   "source": [
    "## Interrupt the tree at Class level, using '-interrupt' and '--Class'\n",
    "## Other parameters: --Super for Superclass, --sub for Subclass\n",
    "command = [\n",
    "    'python',\n",
    "    'iphylo.py',\n",
    "    'chemtree',\n",
    "    '-f',\n",
    "    'example/inchikeys.txt',\n",
    "    '-interrupt',\n",
    "    '--Class'\n",
    "]\n",
    "result = subprocess.run(command, capture_output=True, text=True)\n",
    "file_path = 'iphylo_files/iPHYLO_Tree/iPHYLO_Tree.txt'\n",
    "with open(file_path, 'r') as file:\n",
    "    file_content = file.read()\n",
    "print(file_content)"
   ],
   "metadata": {
    "collapsed": false
   }
  },
  {
   "cell_type": "markdown",
   "source": [
    "In the chemical module, you can also generate a subtree.\n",
    "\n",
    "Unlike biological phylogenetic trees, where the input is a species name, here the input is a chemical classification name.\n",
    "\n",
    " For example, you can generate subtrees for the chemical classifications \"Pentalenes\" and \"Hydroxyindoles\"."
   ],
   "metadata": {
    "collapsed": false
   }
  },
  {
   "cell_type": "code",
   "execution_count": 31,
   "outputs": [
    {
     "name": "stdout",
     "output_type": "stream",
     "text": [
      "database connect success!\n",
      "|████████████████████████████████████████| 2/2 [100%] in 0.0s (714.71/s) \n",
      "Generate Tree Success!\n",
      "Tree and ASCII tree is saved to: /Users/liyueer/PycharmProjects/iphylo_cmd_release/iphylo_files/iPHYLO_Tree/iPHYLO_Tree.txt\n",
      "39 leaves in tree\n",
      "Running time: 0.403202375 Seconds\n",
      "\n",
      " (((((1053055,602494,20858,1107958,1053040,236399,840558,694765,85354,749161,405859,405219,487770,336856,619853,375500,49098,594888,594882,16959,1137088,756671,657597,672184,260534,786741,1068596,1009710,612771,612254,376087,299543,444168,350601,4233,4232,602499)Hydroxyindoles)Indoles_and_derivatives)Organoheterocyclic_compounds,(((1109859,719369)Olefins)Unsaturated_hydrocarbons)Hydrocarbons)Organic_compounds);\n",
      "\n"
     ]
    }
   ],
   "source": [
    "## Build a subtree\n",
    "command = [\n",
    "    'python',\n",
    "    'iphylo.py',\n",
    "    'chemtree',\n",
    "    '-i',\n",
    "    'Pentalenes|subtree,Hydroxyindoles|subtree'\n",
    "]\n",
    "subprocess.run(command, text=True)\n",
    "file_path = 'iphylo_files/iPHYLO_Tree/iPHYLO_Tree.txt'\n",
    "with open(file_path, 'r') as file:\n",
    "    file_content = file.read()\n",
    "print(\"\\n\", file_content)"
   ],
   "metadata": {
    "collapsed": false
   }
  },
  {
   "cell_type": "markdown",
   "source": [
    "# chemonline module\n",
    "This module is an extension of the chemtree module, which allows you to query compounds categorized outside of the local database, and requires a network connection for its use.\n",
    "\n",
    "In this module, classifications also use the ChemOnt classification system, which is implemented by calling the ClassyFire API. Currently, this module supports queries for over 70 million chemicals.\n",
    "\n",
    "Usage:\n",
    "`iphylo.py chemonline [-h] (-i ITEMS | -f FILE) [-o PREFIX] [-fn FNAME] [-bl] [-interrupt (--Super | --Class | --Sub)] [-x THREADS]`\n",
    "\n",
    "The input chemicals MUST be in InChIKey format. This requirement must be especially noted.\n",
    "\n",
    "The parameter list is similar to the parameters mentioned in the phylotree module, with the addition of a parameter for specifying multithreading.\n",
    "- `-x THREADS, --threads THREADS`\n",
    "   Threads number, default 3.\n"
   ],
   "metadata": {
    "collapsed": false
   }
  },
  {
   "cell_type": "code",
   "execution_count": 38,
   "outputs": [
    {
     "name": "stdout",
     "output_type": "stream",
     "text": [
      "on 0: Search round 1,  13 items to process\n",
      "|████████████████████████████████████████| 13/13 [100%] in 1:06.6 (0.20/s) \n",
      "on 0: Search round 2,  0 items to process\n",
      "|████████████████████████████████████████| 0 in 2.0s (0.00/s) \n",
      "on 0: Search round 3,  0 items to process\n",
      "|████████████████████████████████████████| 0 in 2.0s (0.00/s) \n",
      "Generate Tree Success!\n",
      "Tree and ASCII tree is saved to: /Users/liyueer/PycharmProjects/iphylo_cmd_release/iphylo_files/iPHYLO_Tree/iPHYLO_Tree.txt\n",
      "13 leaves in tree\n",
      "------These 0 inchikeys are not found in classyfire------\n",
      "[]\n",
      "\n",
      " (((((13,7)Glycosphingolipids)Sphingolipids,(((9)Phosphatidylethanolamines)Glycerophosphoethanolamines,((8)Phosphatidylcholines)Glycerophosphocholines,((6)Phosphatidylglycerols)Glycerophosphoglycerols,(3)Lysobisphosphatidic_acids)Glycerophospholipids,(((5)Triacylglycerols)Triradylcglycerols)Glycerolipids,((1)Triterpenoids)Prenol_lipids)Lipids_and_lipid_like_molecules,(((((12)Aminoglycosides)Aminosaccharides)Carbohydrates_and_carbohydrate_conjugates,((11,2)Secondary_alcohols,((10)Cyclitols_and_derivatives)Cyclic_alcohols_and_derivatives)Alcohols_and_polyols)Organooxygen_compounds)Organic_oxygen_compounds,((4)Pyranodioxins)Organoheterocyclic_compounds)Organic_compounds);\n",
      "\n"
     ]
    }
   ],
   "source": [
    "# python iphylo.py chemonline -f 'example/inchikeys_for_online.txt' -x 12\n",
    "# threads num: 12\n",
    "command = [\n",
    "    'python',\n",
    "    'iphylo.py',\n",
    "    'chemonline',\n",
    "    '-f',\n",
    "    'example/inchikeys_for_online.txt',\n",
    "    '-x',\n",
    "    '12'\n",
    "]\n",
    "subprocess.run(command, text=True)\n",
    "file_path = 'iphylo_files/iPHYLO_Tree/iPHYLO_Tree.txt'\n",
    "with open(file_path, 'r') as file:\n",
    "    file_content = file.read()\n",
    "print(\"\\n\", file_content)"
   ],
   "metadata": {
    "collapsed": false
   }
  },
  {
   "cell_type": "markdown",
   "source": [
    "## NPtree module\n",
    "\n",
    "The NPtree module allows you to build a chemical taxonomic tree using the InChI, InChIKeys, or isomeric SMILES of compounds. The classification system NPClassifier is used, but performed locally.\n",
    "\n",
    "NPClassifier system categorizes compounds into Pathway, Superclass, and Class. Thus, you are allowed to interrupt the tree at \"pathway\" or \"superclass\" level.\n",
    "\n",
    "usage: `iphylo.py NPtree [-h] [-h] (-i ITEMS | -f FILE) [-o PREFIX] [-fn FNAME] [-bl] [-interrupt (--pathway | --superclass)] `\n"
   ],
   "metadata": {
    "collapsed": false
   }
  },
  {
   "cell_type": "code",
   "execution_count": 36,
   "outputs": [
    {
     "name": "stdout",
     "output_type": "stream",
     "text": [
      "database connect success!\n",
      "|████████████████████████████████████████| 4/4 [100%] in 0.0s (3592.54/s) \n",
      "Generate Tree Success!\n",
      "Tree and ASCII tree is saved to: /Users/liyueer/PycharmProjects/iphylo_cmd_release/iphylo_files/iPHYLO_NP_Tree/iPHYLO_NP_Tree.txt\n",
      "4 leaves in tree\n",
      "Running time: 0.344253833 Seconds\n",
      "\n",
      " ((((((13)Phosphatidylethanolamines)Glycerophosphoethanolamines,((11)Phosphatidylglycerols)Glycerophosphoglycerols,(7)Lysobisphosphatidic_acids,((6)Phosphatidylcholines)Glycerophosphocholines)Glycerophospholipids,((8,5)Glycosphingolipids)Sphingolipids,((4)Triterpenoids)Prenol_lipids,(((3)Triacylglycerols)Triradylcglycerols)Glycerolipids)Lipids_and_lipid_like_molecules,((((12,9)Secondary_alcohols,((2)Cyclitols_and_derivatives)Cyclic_alcohols_and_derivatives)Alcohols_and_polyols,(((10)Aminoglycosides)Aminosaccharides)Carbohydrates_and_carbohydrate_conjugates)Organooxygen_compounds)Organic_oxygen_compounds,((1)Pyranodioxins)Organoheterocyclic_compounds)Organic_compounds);\n",
      "\n"
     ]
    }
   ],
   "source": [
    "# python iphylo.py NPtree -i \"OZVHLPSQDONQQJ-BRFBDGPJSA-N,PMKLGQLZGZOFRC-IKPAITLHSA-N,QUZVJYJCAHCGDH-NQLNTKRDSA-N,RBDQPRHHJDVFEQ-XYCAVOTASA-N\" -interrupt --superclass\n",
    "# input InChIKeys using \"-i\", interrupt at superclass level\n",
    "command = [\n",
    "    'python',\n",
    "    'iphylo.py',\n",
    "    'NPtree',\n",
    "    '-i',\n",
    "    'OZVHLPSQDONQQJ-BRFBDGPJSA-N,PMKLGQLZGZOFRC-IKPAITLHSA-N,QUZVJYJCAHCGDH-NQLNTKRDSA-N,RBDQPRHHJDVFEQ-XYCAVOTASA-N',\n",
    "    '-interrupt',\n",
    "    '--superclass'\n",
    "]\n",
    "subprocess.run(command, text=True)\n",
    "file_path = 'iphylo_files/iPHYLO_Tree/iPHYLO_Tree.txt'\n",
    "with open(file_path, 'r') as file:\n",
    "    file_content = file.read()\n",
    "print(\"\\n\", file_content)"
   ],
   "metadata": {
    "collapsed": false
   }
  },
  {
   "cell_type": "markdown",
   "source": [
    "## NPonline Module\n",
    "\n",
    "The NPonline module is designed to build a chemical taxonomic tree using the isomeric SMILES of compounds.\n",
    "\n",
    "This module only accepts input in the form of a file, and the compounds must be specified as isomeric SMILES.\n",
    "\n",
    "It leverages the NPClassifier’s API, which allows for the retrieval of more than 1.3 million natural products, ensuring comprehensive classification and accurate results.\n",
    "\n",
    "Usage:\n",
    "`iphylo.py NPonline [-h] <-f FILE> [-o PREFIX] [-fn FNAME] [-bl] [-interrupt (--pathway | --superclass)] [-x THREADS]`\n"
   ],
   "metadata": {
    "collapsed": false
   }
  },
  {
   "cell_type": "code",
   "execution_count": 2,
   "outputs": [
    {
     "name": "stdout",
     "output_type": "stream",
     "text": [
      "on 0: Search round 1,  20 items to process\n",
      "on 20: Exiting Main Thread\n",
      "|████████████████████████████████████████| 20/20 [100%] in 2.2s (9.08/s) \n",
      "on 0: Search round 2,  0 items to process\n",
      "on 0: Exiting Main Thread\n",
      "|████████████████████████████████████████| 0 in 0.0s (0.00/s) \n",
      "on 0: Search round 3,  0 items to process\n",
      "on 0: Exiting Main Thread\n",
      "|████████████████████████████████████████| 0 in 0.0s (0.00/s) \n",
      "Generate Tree Success!\n",
      "Tree and ASCII tree is saved to: /Users/liyueer/PycharmProjects/iphylo_cmd_release/iphylo_files/NP_Tree/NP_Tree.txt\n",
      "20 leaves in tree\n",
      "\n",
      " (((((13,7)Glycosphingolipids)Sphingolipids,(((9)Phosphatidylethanolamines)Glycerophosphoethanolamines,((8)Phosphatidylcholines)Glycerophosphocholines,((6)Phosphatidylglycerols)Glycerophosphoglycerols,(3)Lysobisphosphatidic_acids)Glycerophospholipids,(((5)Triacylglycerols)Triradylcglycerols)Glycerolipids,((1)Triterpenoids)Prenol_lipids)Lipids_and_lipid_like_molecules,(((((12)Aminoglycosides)Aminosaccharides)Carbohydrates_and_carbohydrate_conjugates,((11,2)Secondary_alcohols,((10)Cyclitols_and_derivatives)Cyclic_alcohols_and_derivatives)Alcohols_and_polyols)Organooxygen_compounds)Organic_oxygen_compounds,((4)Pyranodioxins)Organoheterocyclic_compounds)Organic_compounds);\n",
      "\n"
     ]
    }
   ],
   "source": [
    "# python iphylo.py NPonline -f \"./example/smiles.txt\" -x 10\n",
    "command = [\n",
    "    'python',\n",
    "    'iphylo.py',\n",
    "    'NPonline',\n",
    "    '-f',\n",
    "    './example/smiles.txt',\n",
    "    '-x',\n",
    "    '10'\n",
    "]\n",
    "subprocess.run(command, text=True)\n",
    "file_path = 'iphylo_files/iPHYLO_Tree/iPHYLO_Tree.txt'\n",
    "with open(file_path, 'r') as file:\n",
    "    file_content = file.read()\n",
    "print(\"\\n\", file_content)"
   ],
   "metadata": {
    "collapsed": false
   }
  },
  {
   "cell_type": "markdown",
   "source": [
    "## CSV2Tree module\n",
    "\n",
    "You can use this module to build a tree for any data with a hierarchy.\n",
    "\n",
    "The data should be presented in a csv table, with each row representing a categorized piece of information and each column representing a categorization level.\n",
    "\n",
    "usage: `iphylo.py csv2tree [-h] <-f FILE> [-o PREFIX] [-fn OUT_NAME] [-fg] [-xh] [-bl]`\n",
    "\n",
    "Explanation:\n",
    "\n",
    "- `-fg`, `--fill-gap`\n",
    "    fill the classification gap (some missing classificaltion level) in each row\n",
    "- `-xh`, `--header`\n",
    "    remove input file's header row\n",
    "\n",
    "Here is an example of statistical analysis methods:"
   ],
   "metadata": {
    "collapsed": false
   }
  },
  {
   "cell_type": "code",
   "execution_count": 3,
   "outputs": [
    {
     "data": {
      "text/plain": "    Statistical Analysis    Hypothesis Tests            Parametric Tests  \\\n0   Statistical Analysis    Hypothesis Tests            Parametric Tests   \n1   Statistical Analysis    Hypothesis Tests            Parametric Tests   \n2   Statistical Analysis    Hypothesis Tests            Parametric Tests   \n3   Statistical Analysis    Hypothesis Tests            Parametric Tests   \n4   Statistical Analysis    Hypothesis Tests         Nonparametric Tests   \n5   Statistical Analysis    Hypothesis Tests         Nonparametric Tests   \n6   Statistical Analysis    Hypothesis Tests         Nonparametric Tests   \n7   Statistical Analysis    Hypothesis Tests         Nonparametric Tests   \n8   Statistical Analysis    Hypothesis Tests         Nonparametric Tests   \n9   Statistical Analysis    Hypothesis Tests         Nonparametric Tests   \n10  Statistical Analysis    Hypothesis Tests         Nonparametric Tests   \n11  Statistical Analysis    Hypothesis Tests         Nonparametric Tests   \n12  Statistical Analysis    Hypothesis Tests         Nonparametric Tests   \n13  Statistical Analysis    Hypothesis Tests         Nonparametric Tests   \n14  Statistical Analysis    Hypothesis Tests         Nonparametric Tests   \n15  Statistical Analysis    Hypothesis Tests         Nonparametric Tests   \n16  Statistical Analysis    Hypothesis Tests         Nonparametric Tests   \n17  Statistical Analysis    Hypothesis Tests         Nonparametric Tests   \n18  Statistical Analysis    Hypothesis Tests         Nonparametric Tests   \n19  Statistical Analysis    Hypothesis Tests         Nonparametric Tests   \n20  Statistical Analysis    Hypothesis Tests         Nonparametric Tests   \n21  Statistical Analysis    Hypothesis Tests         Nonparametric Tests   \n22  Statistical Analysis    Hypothesis Tests            Parametric Tests   \n23  Statistical Analysis    Hypothesis Tests            Parametric Tests   \n24  Statistical Analysis  Ordination Methods  Indirect Gradient Analysis   \n25  Statistical Analysis  Ordination Methods  Indirect Gradient Analysis   \n26  Statistical Analysis  Ordination Methods  Indirect Gradient Analysis   \n27  Statistical Analysis  Ordination Methods  Indirect Gradient Analysis   \n28  Statistical Analysis  Ordination Methods  Indirect Gradient Analysis   \n29  Statistical Analysis  Ordination Methods  Indirect Gradient Analysis   \n30  Statistical Analysis  Ordination Methods    Direct Gradient Analysis   \n31  Statistical Analysis  Ordination Methods    Direct Gradient Analysis   \n32  Statistical Analysis  Ordination Methods    Direct Gradient Analysis   \n\n                        One Sample    One sample t test  \\\n0                       One Sample               z test   \n1                      Two Samples  Independent Samples   \n2                      Two Samples  Independent Samples   \n3                      Two Samples       Paired Samples   \n4                       One Sample           Chi-square   \n5                       One Sample   Kolmogorov-Smirnov   \n6                       One Sample                 Runs   \n7                       One Sample             Binomial   \n8                      Two Samples  Independent Samples   \n9                      Two Samples  Independent Samples   \n10                     Two Samples  Independent Samples   \n11                     Two Samples  Independent Samples   \n12                     Two Samples       Paired Samples   \n13                     Two Samples       Paired Samples   \n14                     Two Samples       Paired Samples   \n15                     Two Samples       Paired Samples   \n16                Multiple Samples  Independent Samples   \n17                Multiple Samples  Independent Samples   \n18                Multiple Samples  Independent Samples   \n19                Multiple Samples       Paired Samples   \n20                Multiple Samples       Paired Samples   \n21                Multiple Samples       Paired Samples   \n22                Multiple Samples  Independent Samples   \n23                Multiple Samples       Paired Samples   \n24       Distance-based approaches                 NMDS   \n25       Distance-based approaches                 PCoA   \n26       Distance-based approaches     Polar ordination   \n27  Eigenanalysis-based approaches                  PCA   \n28  Eigenanalysis-based approaches                   CA   \n29  Eigenanalysis-based approaches                  DCA   \n30                    Linear model                  RDA   \n31                  Unimodal model                  CCA   \n32                  Unimodal model                 DCCA   \n\n                       Unnamed: 5  \n0                             NaN  \n1                Two-group t test  \n2                          Z test  \n3                   Paired t test  \n4                             NaN  \n5                             NaN  \n6                             NaN  \n7                             NaN  \n8                      Chi-square  \n9                    Mann-Whitney  \n10                         Median  \n11             Kolmogorov-Smirnov  \n12                           Sign  \n13                       Wilcoxon  \n14                        McNemar  \n15                     Chi-square  \n16            Kruskal-Wallis test  \n17                    Median test  \n18  Jonckheere-Terpstra test (JT)  \n19                  Friedman test  \n20               Kendall's W test  \n21               Cochran's Q test  \n22                  One-way ANOVA  \n23        Repeated Measures ANOVA  \n24                            NaN  \n25                            NaN  \n26                            NaN  \n27                            NaN  \n28                            NaN  \n29                            NaN  \n30                            NaN  \n31                            NaN  \n32                            NaN  ",
      "text/html": "<div>\n<style scoped>\n    .dataframe tbody tr th:only-of-type {\n        vertical-align: middle;\n    }\n\n    .dataframe tbody tr th {\n        vertical-align: top;\n    }\n\n    .dataframe thead th {\n        text-align: right;\n    }\n</style>\n<table border=\"1\" class=\"dataframe\">\n  <thead>\n    <tr style=\"text-align: right;\">\n      <th></th>\n      <th>Statistical Analysis</th>\n      <th>Hypothesis Tests</th>\n      <th>Parametric Tests</th>\n      <th>One Sample</th>\n      <th>One sample t test</th>\n      <th>Unnamed: 5</th>\n    </tr>\n  </thead>\n  <tbody>\n    <tr>\n      <th>0</th>\n      <td>Statistical Analysis</td>\n      <td>Hypothesis Tests</td>\n      <td>Parametric Tests</td>\n      <td>One Sample</td>\n      <td>z test</td>\n      <td>NaN</td>\n    </tr>\n    <tr>\n      <th>1</th>\n      <td>Statistical Analysis</td>\n      <td>Hypothesis Tests</td>\n      <td>Parametric Tests</td>\n      <td>Two Samples</td>\n      <td>Independent Samples</td>\n      <td>Two-group t test</td>\n    </tr>\n    <tr>\n      <th>2</th>\n      <td>Statistical Analysis</td>\n      <td>Hypothesis Tests</td>\n      <td>Parametric Tests</td>\n      <td>Two Samples</td>\n      <td>Independent Samples</td>\n      <td>Z test</td>\n    </tr>\n    <tr>\n      <th>3</th>\n      <td>Statistical Analysis</td>\n      <td>Hypothesis Tests</td>\n      <td>Parametric Tests</td>\n      <td>Two Samples</td>\n      <td>Paired Samples</td>\n      <td>Paired t test</td>\n    </tr>\n    <tr>\n      <th>4</th>\n      <td>Statistical Analysis</td>\n      <td>Hypothesis Tests</td>\n      <td>Nonparametric Tests</td>\n      <td>One Sample</td>\n      <td>Chi-square</td>\n      <td>NaN</td>\n    </tr>\n    <tr>\n      <th>5</th>\n      <td>Statistical Analysis</td>\n      <td>Hypothesis Tests</td>\n      <td>Nonparametric Tests</td>\n      <td>One Sample</td>\n      <td>Kolmogorov-Smirnov</td>\n      <td>NaN</td>\n    </tr>\n    <tr>\n      <th>6</th>\n      <td>Statistical Analysis</td>\n      <td>Hypothesis Tests</td>\n      <td>Nonparametric Tests</td>\n      <td>One Sample</td>\n      <td>Runs</td>\n      <td>NaN</td>\n    </tr>\n    <tr>\n      <th>7</th>\n      <td>Statistical Analysis</td>\n      <td>Hypothesis Tests</td>\n      <td>Nonparametric Tests</td>\n      <td>One Sample</td>\n      <td>Binomial</td>\n      <td>NaN</td>\n    </tr>\n    <tr>\n      <th>8</th>\n      <td>Statistical Analysis</td>\n      <td>Hypothesis Tests</td>\n      <td>Nonparametric Tests</td>\n      <td>Two Samples</td>\n      <td>Independent Samples</td>\n      <td>Chi-square</td>\n    </tr>\n    <tr>\n      <th>9</th>\n      <td>Statistical Analysis</td>\n      <td>Hypothesis Tests</td>\n      <td>Nonparametric Tests</td>\n      <td>Two Samples</td>\n      <td>Independent Samples</td>\n      <td>Mann-Whitney</td>\n    </tr>\n    <tr>\n      <th>10</th>\n      <td>Statistical Analysis</td>\n      <td>Hypothesis Tests</td>\n      <td>Nonparametric Tests</td>\n      <td>Two Samples</td>\n      <td>Independent Samples</td>\n      <td>Median</td>\n    </tr>\n    <tr>\n      <th>11</th>\n      <td>Statistical Analysis</td>\n      <td>Hypothesis Tests</td>\n      <td>Nonparametric Tests</td>\n      <td>Two Samples</td>\n      <td>Independent Samples</td>\n      <td>Kolmogorov-Smirnov</td>\n    </tr>\n    <tr>\n      <th>12</th>\n      <td>Statistical Analysis</td>\n      <td>Hypothesis Tests</td>\n      <td>Nonparametric Tests</td>\n      <td>Two Samples</td>\n      <td>Paired Samples</td>\n      <td>Sign</td>\n    </tr>\n    <tr>\n      <th>13</th>\n      <td>Statistical Analysis</td>\n      <td>Hypothesis Tests</td>\n      <td>Nonparametric Tests</td>\n      <td>Two Samples</td>\n      <td>Paired Samples</td>\n      <td>Wilcoxon</td>\n    </tr>\n    <tr>\n      <th>14</th>\n      <td>Statistical Analysis</td>\n      <td>Hypothesis Tests</td>\n      <td>Nonparametric Tests</td>\n      <td>Two Samples</td>\n      <td>Paired Samples</td>\n      <td>McNemar</td>\n    </tr>\n    <tr>\n      <th>15</th>\n      <td>Statistical Analysis</td>\n      <td>Hypothesis Tests</td>\n      <td>Nonparametric Tests</td>\n      <td>Two Samples</td>\n      <td>Paired Samples</td>\n      <td>Chi-square</td>\n    </tr>\n    <tr>\n      <th>16</th>\n      <td>Statistical Analysis</td>\n      <td>Hypothesis Tests</td>\n      <td>Nonparametric Tests</td>\n      <td>Multiple Samples</td>\n      <td>Independent Samples</td>\n      <td>Kruskal-Wallis test</td>\n    </tr>\n    <tr>\n      <th>17</th>\n      <td>Statistical Analysis</td>\n      <td>Hypothesis Tests</td>\n      <td>Nonparametric Tests</td>\n      <td>Multiple Samples</td>\n      <td>Independent Samples</td>\n      <td>Median test</td>\n    </tr>\n    <tr>\n      <th>18</th>\n      <td>Statistical Analysis</td>\n      <td>Hypothesis Tests</td>\n      <td>Nonparametric Tests</td>\n      <td>Multiple Samples</td>\n      <td>Independent Samples</td>\n      <td>Jonckheere-Terpstra test (JT)</td>\n    </tr>\n    <tr>\n      <th>19</th>\n      <td>Statistical Analysis</td>\n      <td>Hypothesis Tests</td>\n      <td>Nonparametric Tests</td>\n      <td>Multiple Samples</td>\n      <td>Paired Samples</td>\n      <td>Friedman test</td>\n    </tr>\n    <tr>\n      <th>20</th>\n      <td>Statistical Analysis</td>\n      <td>Hypothesis Tests</td>\n      <td>Nonparametric Tests</td>\n      <td>Multiple Samples</td>\n      <td>Paired Samples</td>\n      <td>Kendall's W test</td>\n    </tr>\n    <tr>\n      <th>21</th>\n      <td>Statistical Analysis</td>\n      <td>Hypothesis Tests</td>\n      <td>Nonparametric Tests</td>\n      <td>Multiple Samples</td>\n      <td>Paired Samples</td>\n      <td>Cochran's Q test</td>\n    </tr>\n    <tr>\n      <th>22</th>\n      <td>Statistical Analysis</td>\n      <td>Hypothesis Tests</td>\n      <td>Parametric Tests</td>\n      <td>Multiple Samples</td>\n      <td>Independent Samples</td>\n      <td>One-way ANOVA</td>\n    </tr>\n    <tr>\n      <th>23</th>\n      <td>Statistical Analysis</td>\n      <td>Hypothesis Tests</td>\n      <td>Parametric Tests</td>\n      <td>Multiple Samples</td>\n      <td>Paired Samples</td>\n      <td>Repeated Measures ANOVA</td>\n    </tr>\n    <tr>\n      <th>24</th>\n      <td>Statistical Analysis</td>\n      <td>Ordination Methods</td>\n      <td>Indirect Gradient Analysis</td>\n      <td>Distance-based approaches</td>\n      <td>NMDS</td>\n      <td>NaN</td>\n    </tr>\n    <tr>\n      <th>25</th>\n      <td>Statistical Analysis</td>\n      <td>Ordination Methods</td>\n      <td>Indirect Gradient Analysis</td>\n      <td>Distance-based approaches</td>\n      <td>PCoA</td>\n      <td>NaN</td>\n    </tr>\n    <tr>\n      <th>26</th>\n      <td>Statistical Analysis</td>\n      <td>Ordination Methods</td>\n      <td>Indirect Gradient Analysis</td>\n      <td>Distance-based approaches</td>\n      <td>Polar ordination</td>\n      <td>NaN</td>\n    </tr>\n    <tr>\n      <th>27</th>\n      <td>Statistical Analysis</td>\n      <td>Ordination Methods</td>\n      <td>Indirect Gradient Analysis</td>\n      <td>Eigenanalysis-based approaches</td>\n      <td>PCA</td>\n      <td>NaN</td>\n    </tr>\n    <tr>\n      <th>28</th>\n      <td>Statistical Analysis</td>\n      <td>Ordination Methods</td>\n      <td>Indirect Gradient Analysis</td>\n      <td>Eigenanalysis-based approaches</td>\n      <td>CA</td>\n      <td>NaN</td>\n    </tr>\n    <tr>\n      <th>29</th>\n      <td>Statistical Analysis</td>\n      <td>Ordination Methods</td>\n      <td>Indirect Gradient Analysis</td>\n      <td>Eigenanalysis-based approaches</td>\n      <td>DCA</td>\n      <td>NaN</td>\n    </tr>\n    <tr>\n      <th>30</th>\n      <td>Statistical Analysis</td>\n      <td>Ordination Methods</td>\n      <td>Direct Gradient Analysis</td>\n      <td>Linear model</td>\n      <td>RDA</td>\n      <td>NaN</td>\n    </tr>\n    <tr>\n      <th>31</th>\n      <td>Statistical Analysis</td>\n      <td>Ordination Methods</td>\n      <td>Direct Gradient Analysis</td>\n      <td>Unimodal model</td>\n      <td>CCA</td>\n      <td>NaN</td>\n    </tr>\n    <tr>\n      <th>32</th>\n      <td>Statistical Analysis</td>\n      <td>Ordination Methods</td>\n      <td>Direct Gradient Analysis</td>\n      <td>Unimodal model</td>\n      <td>DCCA</td>\n      <td>NaN</td>\n    </tr>\n  </tbody>\n</table>\n</div>"
     },
     "execution_count": 3,
     "metadata": {},
     "output_type": "execute_result"
    }
   ],
   "source": [
    "import pandas as pd\n",
    "file_path = 'example/statistical_methods.csv'\n",
    "df = pd.read_csv(file_path)\n",
    "df"
   ],
   "metadata": {
    "collapsed": false
   }
  },
  {
   "cell_type": "code",
   "execution_count": 7,
   "outputs": [
    {
     "name": "stdout",
     "output_type": "stream",
     "text": [
      "\n",
      "There are same child nodes with different parent nodes:\n",
      "\n",
      "Child Node: One_Sample\n",
      "Parent Nodes: Parametric_Tests, Nonparametric_Tests\n",
      "\n",
      "Child Node: Two_Samples\n",
      "Parent Nodes: Parametric_Tests, Nonparametric_Tests\n",
      "\n",
      "Child Node: Multiple_Samples\n",
      "Parent Nodes: Parametric_Tests, Nonparametric_Tests\n",
      "\n",
      "Child Node: Independent_Samples\n",
      "Parent Nodes: Multiple_Samples, Two_Samples\n",
      "\n",
      "Child Node: Paired_Samples\n",
      "Parent Nodes: Multiple_Samples, Two_Samples\n",
      "\n",
      "Child Node: Chi-square\n",
      "Parent Nodes: Independent_Samples, Paired_Samples\n",
      "\n",
      "generate tree success\n",
      "The tree is saved to: /Users/liyueer/PycharmProjects/iphylo_cmd_release/iphylo_files/statistical_methods.txt\n",
      "\n",
      " (((((DCCA,CCA)Unimodal_model,(RDA)Linear_model)Direct_Gradient_Analysis,((DCA,CA,PCA)Eigenanalysis-based_approaches,(Polar_ordination,PCoA,NMDS)Distance-based_approaches)Indirect_Gradient_Analysis)Ordination_Methods,((((Repeated_Measures_ANOVA)Paired_Samples,(One-way_ANOVA)Independent_Samples)Multiple_Samples,((Paired_t_test)Paired_Samples,(Z_test,Two-group_t_test)Independent_Samples)Two_Samples,(z_test,One_sample_t_test)One_Sample)Parametric_Tests,(((Cochran_s_Q_test,Kendall_s_W_test,Friedman_test)Paired_Samples,(Jonckheere-Terpstra_test__JT_,Median_test,Kruskal-Wallis_test)Independent_Samples)Multiple_Samples,((Chi-square,McNemar,Wilcoxon,Sign)Paired_Samples,(Kolmogorov-Smirnov,Median,Mann-Whitney,Chi-square)Independent_Samples)Two_Samples,(Binomial,Runs,Kolmogorov-Smirnov,Chi-square)One_Sample)Nonparametric_Tests)Hypothesis_Tests)Statistical_Analysis);\n",
      "\n"
     ]
    }
   ],
   "source": [
    "# python iphylo.py csv2tree -f 'example/statistical_methods.csv' -fn statistical_methods\n",
    "\n",
    "import subprocess\n",
    "\n",
    "command = [\n",
    "    'python',\n",
    "    'iphylo.py',\n",
    "    'csv2tree',\n",
    "    '-f',\n",
    "    'example/statistical_methods.csv',\n",
    "    '-fn',\n",
    "    'statistical_methods'\n",
    "]\n",
    "subprocess.run(command, text=True)\n",
    "file_path = 'iphylo_files/statistical_methods.txt'\n",
    "with open(file_path, 'r') as file:\n",
    "    file_content = file.read()\n",
    "print(\"\\n\", file_content)"
   ],
   "metadata": {
    "collapsed": false
   }
  },
  {
   "cell_type": "markdown",
   "source": [
    "This is a case using `-fg`, `--fill_gap` to fill the column gaps in the data frame, and remove input file’s header row\n",
    "\n",
    "The NaN gap in Col3, Row4 will be replaced by \"Two_Samples+\", according to it's child's name \"Two Samples\""
   ],
   "metadata": {
    "collapsed": false
   }
  },
  {
   "cell_type": "code",
   "execution_count": 9,
   "outputs": [
    {
     "data": {
      "text/plain": "                   col_1               col_2                       col_3  \\\n0   Statistical Analysis    Hypothesis Tests            Parametric Tests   \n1   Statistical Analysis    Hypothesis Tests            Parametric Tests   \n2   Statistical Analysis    Hypothesis Tests            Parametric Tests   \n3   Statistical Analysis    Hypothesis Tests            Parametric Tests   \n4   Statistical Analysis    Hypothesis Tests                         NaN   \n5   Statistical Analysis    Hypothesis Tests         Nonparametric Tests   \n6   Statistical Analysis    Hypothesis Tests         Nonparametric Tests   \n7   Statistical Analysis    Hypothesis Tests         Nonparametric Tests   \n8   Statistical Analysis    Hypothesis Tests         Nonparametric Tests   \n9   Statistical Analysis    Hypothesis Tests         Nonparametric Tests   \n10  Statistical Analysis    Hypothesis Tests         Nonparametric Tests   \n11  Statistical Analysis    Hypothesis Tests         Nonparametric Tests   \n12  Statistical Analysis    Hypothesis Tests         Nonparametric Tests   \n13  Statistical Analysis    Hypothesis Tests         Nonparametric Tests   \n14  Statistical Analysis    Hypothesis Tests         Nonparametric Tests   \n15  Statistical Analysis    Hypothesis Tests         Nonparametric Tests   \n16  Statistical Analysis    Hypothesis Tests         Nonparametric Tests   \n17  Statistical Analysis    Hypothesis Tests         Nonparametric Tests   \n18  Statistical Analysis    Hypothesis Tests         Nonparametric Tests   \n19  Statistical Analysis    Hypothesis Tests         Nonparametric Tests   \n20  Statistical Analysis    Hypothesis Tests         Nonparametric Tests   \n21  Statistical Analysis    Hypothesis Tests         Nonparametric Tests   \n22  Statistical Analysis    Hypothesis Tests         Nonparametric Tests   \n23  Statistical Analysis    Hypothesis Tests            Parametric Tests   \n24  Statistical Analysis    Hypothesis Tests            Parametric Tests   \n25  Statistical Analysis  Ordination Methods  Indirect Gradient Analysis   \n26  Statistical Analysis  Ordination Methods  Indirect Gradient Analysis   \n27  Statistical Analysis  Ordination Methods  Indirect Gradient Analysis   \n28  Statistical Analysis  Ordination Methods  Indirect Gradient Analysis   \n29  Statistical Analysis  Ordination Methods  Indirect Gradient Analysis   \n30  Statistical Analysis  Ordination Methods  Indirect Gradient Analysis   \n31  Statistical Analysis  Ordination Methods    Direct Gradient Analysis   \n32  Statistical Analysis  Ordination Methods    Direct Gradient Analysis   \n33  Statistical Analysis  Ordination Methods    Direct Gradient Analysis   \n\n                             col_4                col_5  \\\n0                       One Sample    One sample t test   \n1                       One Sample               z test   \n2                      Two Samples  Independent Samples   \n3                      Two Samples  Independent Samples   \n4                      Two Samples       Paired Samples   \n5                       One Sample           Chi-square   \n6                       One Sample   Kolmogorov-Smirnov   \n7                       One Sample                 Runs   \n8                       One Sample             Binomial   \n9                      Two Samples  Independent Samples   \n10                     Two Samples  Independent Samples   \n11                     Two Samples  Independent Samples   \n12                     Two Samples  Independent Samples   \n13                     Two Samples       Paired Samples   \n14                     Two Samples       Paired Samples   \n15                     Two Samples       Paired Samples   \n16                     Two Samples       Paired Samples   \n17                Multiple Samples                  NaN   \n18                Multiple Samples                  NaN   \n19                Multiple Samples                  NaN   \n20                Multiple Samples                  NaN   \n21                Multiple Samples                  NaN   \n22                Multiple Samples                  NaN   \n23                Multiple Samples                  NaN   \n24                Multiple Samples                  NaN   \n25       Distance-based approaches                 NMDS   \n26       Distance-based approaches                 PCoA   \n27       Distance-based approaches     Polar ordination   \n28  Eigenanalysis-based approaches                  PCA   \n29  Eigenanalysis-based approaches                   CA   \n30  Eigenanalysis-based approaches                  DCA   \n31                    Linear model                  RDA   \n32                  Unimodal model                  CCA   \n33                  Unimodal model                 DCCA   \n\n                            col_6  \n0                             NaN  \n1                             NaN  \n2                Two-group t test  \n3                          Z test  \n4                   Paired t test  \n5                             NaN  \n6                             NaN  \n7                             NaN  \n8                             NaN  \n9                      Chi-square  \n10                   Mann-Whitney  \n11                         Median  \n12             Kolmogorov-Smirnov  \n13                           Sign  \n14                       Wilcoxon  \n15                        McNemar  \n16                     Chi-square  \n17            Kruskal-Wallis test  \n18                    Median test  \n19  Jonckheere-Terpstra test (JT)  \n20                  Friedman test  \n21               Kendall's W test  \n22               Cochran's Q test  \n23                  One-way ANOVA  \n24        Repeated Measures ANOVA  \n25                            NaN  \n26                            NaN  \n27                            NaN  \n28                            NaN  \n29                            NaN  \n30                            NaN  \n31                            NaN  \n32                            NaN  \n33                            NaN  ",
      "text/html": "<div>\n<style scoped>\n    .dataframe tbody tr th:only-of-type {\n        vertical-align: middle;\n    }\n\n    .dataframe tbody tr th {\n        vertical-align: top;\n    }\n\n    .dataframe thead th {\n        text-align: right;\n    }\n</style>\n<table border=\"1\" class=\"dataframe\">\n  <thead>\n    <tr style=\"text-align: right;\">\n      <th></th>\n      <th>col_1</th>\n      <th>col_2</th>\n      <th>col_3</th>\n      <th>col_4</th>\n      <th>col_5</th>\n      <th>col_6</th>\n    </tr>\n  </thead>\n  <tbody>\n    <tr>\n      <th>0</th>\n      <td>Statistical Analysis</td>\n      <td>Hypothesis Tests</td>\n      <td>Parametric Tests</td>\n      <td>One Sample</td>\n      <td>One sample t test</td>\n      <td>NaN</td>\n    </tr>\n    <tr>\n      <th>1</th>\n      <td>Statistical Analysis</td>\n      <td>Hypothesis Tests</td>\n      <td>Parametric Tests</td>\n      <td>One Sample</td>\n      <td>z test</td>\n      <td>NaN</td>\n    </tr>\n    <tr>\n      <th>2</th>\n      <td>Statistical Analysis</td>\n      <td>Hypothesis Tests</td>\n      <td>Parametric Tests</td>\n      <td>Two Samples</td>\n      <td>Independent Samples</td>\n      <td>Two-group t test</td>\n    </tr>\n    <tr>\n      <th>3</th>\n      <td>Statistical Analysis</td>\n      <td>Hypothesis Tests</td>\n      <td>Parametric Tests</td>\n      <td>Two Samples</td>\n      <td>Independent Samples</td>\n      <td>Z test</td>\n    </tr>\n    <tr>\n      <th>4</th>\n      <td>Statistical Analysis</td>\n      <td>Hypothesis Tests</td>\n      <td>NaN</td>\n      <td>Two Samples</td>\n      <td>Paired Samples</td>\n      <td>Paired t test</td>\n    </tr>\n    <tr>\n      <th>5</th>\n      <td>Statistical Analysis</td>\n      <td>Hypothesis Tests</td>\n      <td>Nonparametric Tests</td>\n      <td>One Sample</td>\n      <td>Chi-square</td>\n      <td>NaN</td>\n    </tr>\n    <tr>\n      <th>6</th>\n      <td>Statistical Analysis</td>\n      <td>Hypothesis Tests</td>\n      <td>Nonparametric Tests</td>\n      <td>One Sample</td>\n      <td>Kolmogorov-Smirnov</td>\n      <td>NaN</td>\n    </tr>\n    <tr>\n      <th>7</th>\n      <td>Statistical Analysis</td>\n      <td>Hypothesis Tests</td>\n      <td>Nonparametric Tests</td>\n      <td>One Sample</td>\n      <td>Runs</td>\n      <td>NaN</td>\n    </tr>\n    <tr>\n      <th>8</th>\n      <td>Statistical Analysis</td>\n      <td>Hypothesis Tests</td>\n      <td>Nonparametric Tests</td>\n      <td>One Sample</td>\n      <td>Binomial</td>\n      <td>NaN</td>\n    </tr>\n    <tr>\n      <th>9</th>\n      <td>Statistical Analysis</td>\n      <td>Hypothesis Tests</td>\n      <td>Nonparametric Tests</td>\n      <td>Two Samples</td>\n      <td>Independent Samples</td>\n      <td>Chi-square</td>\n    </tr>\n    <tr>\n      <th>10</th>\n      <td>Statistical Analysis</td>\n      <td>Hypothesis Tests</td>\n      <td>Nonparametric Tests</td>\n      <td>Two Samples</td>\n      <td>Independent Samples</td>\n      <td>Mann-Whitney</td>\n    </tr>\n    <tr>\n      <th>11</th>\n      <td>Statistical Analysis</td>\n      <td>Hypothesis Tests</td>\n      <td>Nonparametric Tests</td>\n      <td>Two Samples</td>\n      <td>Independent Samples</td>\n      <td>Median</td>\n    </tr>\n    <tr>\n      <th>12</th>\n      <td>Statistical Analysis</td>\n      <td>Hypothesis Tests</td>\n      <td>Nonparametric Tests</td>\n      <td>Two Samples</td>\n      <td>Independent Samples</td>\n      <td>Kolmogorov-Smirnov</td>\n    </tr>\n    <tr>\n      <th>13</th>\n      <td>Statistical Analysis</td>\n      <td>Hypothesis Tests</td>\n      <td>Nonparametric Tests</td>\n      <td>Two Samples</td>\n      <td>Paired Samples</td>\n      <td>Sign</td>\n    </tr>\n    <tr>\n      <th>14</th>\n      <td>Statistical Analysis</td>\n      <td>Hypothesis Tests</td>\n      <td>Nonparametric Tests</td>\n      <td>Two Samples</td>\n      <td>Paired Samples</td>\n      <td>Wilcoxon</td>\n    </tr>\n    <tr>\n      <th>15</th>\n      <td>Statistical Analysis</td>\n      <td>Hypothesis Tests</td>\n      <td>Nonparametric Tests</td>\n      <td>Two Samples</td>\n      <td>Paired Samples</td>\n      <td>McNemar</td>\n    </tr>\n    <tr>\n      <th>16</th>\n      <td>Statistical Analysis</td>\n      <td>Hypothesis Tests</td>\n      <td>Nonparametric Tests</td>\n      <td>Two Samples</td>\n      <td>Paired Samples</td>\n      <td>Chi-square</td>\n    </tr>\n    <tr>\n      <th>17</th>\n      <td>Statistical Analysis</td>\n      <td>Hypothesis Tests</td>\n      <td>Nonparametric Tests</td>\n      <td>Multiple Samples</td>\n      <td>NaN</td>\n      <td>Kruskal-Wallis test</td>\n    </tr>\n    <tr>\n      <th>18</th>\n      <td>Statistical Analysis</td>\n      <td>Hypothesis Tests</td>\n      <td>Nonparametric Tests</td>\n      <td>Multiple Samples</td>\n      <td>NaN</td>\n      <td>Median test</td>\n    </tr>\n    <tr>\n      <th>19</th>\n      <td>Statistical Analysis</td>\n      <td>Hypothesis Tests</td>\n      <td>Nonparametric Tests</td>\n      <td>Multiple Samples</td>\n      <td>NaN</td>\n      <td>Jonckheere-Terpstra test (JT)</td>\n    </tr>\n    <tr>\n      <th>20</th>\n      <td>Statistical Analysis</td>\n      <td>Hypothesis Tests</td>\n      <td>Nonparametric Tests</td>\n      <td>Multiple Samples</td>\n      <td>NaN</td>\n      <td>Friedman test</td>\n    </tr>\n    <tr>\n      <th>21</th>\n      <td>Statistical Analysis</td>\n      <td>Hypothesis Tests</td>\n      <td>Nonparametric Tests</td>\n      <td>Multiple Samples</td>\n      <td>NaN</td>\n      <td>Kendall's W test</td>\n    </tr>\n    <tr>\n      <th>22</th>\n      <td>Statistical Analysis</td>\n      <td>Hypothesis Tests</td>\n      <td>Nonparametric Tests</td>\n      <td>Multiple Samples</td>\n      <td>NaN</td>\n      <td>Cochran's Q test</td>\n    </tr>\n    <tr>\n      <th>23</th>\n      <td>Statistical Analysis</td>\n      <td>Hypothesis Tests</td>\n      <td>Parametric Tests</td>\n      <td>Multiple Samples</td>\n      <td>NaN</td>\n      <td>One-way ANOVA</td>\n    </tr>\n    <tr>\n      <th>24</th>\n      <td>Statistical Analysis</td>\n      <td>Hypothesis Tests</td>\n      <td>Parametric Tests</td>\n      <td>Multiple Samples</td>\n      <td>NaN</td>\n      <td>Repeated Measures ANOVA</td>\n    </tr>\n    <tr>\n      <th>25</th>\n      <td>Statistical Analysis</td>\n      <td>Ordination Methods</td>\n      <td>Indirect Gradient Analysis</td>\n      <td>Distance-based approaches</td>\n      <td>NMDS</td>\n      <td>NaN</td>\n    </tr>\n    <tr>\n      <th>26</th>\n      <td>Statistical Analysis</td>\n      <td>Ordination Methods</td>\n      <td>Indirect Gradient Analysis</td>\n      <td>Distance-based approaches</td>\n      <td>PCoA</td>\n      <td>NaN</td>\n    </tr>\n    <tr>\n      <th>27</th>\n      <td>Statistical Analysis</td>\n      <td>Ordination Methods</td>\n      <td>Indirect Gradient Analysis</td>\n      <td>Distance-based approaches</td>\n      <td>Polar ordination</td>\n      <td>NaN</td>\n    </tr>\n    <tr>\n      <th>28</th>\n      <td>Statistical Analysis</td>\n      <td>Ordination Methods</td>\n      <td>Indirect Gradient Analysis</td>\n      <td>Eigenanalysis-based approaches</td>\n      <td>PCA</td>\n      <td>NaN</td>\n    </tr>\n    <tr>\n      <th>29</th>\n      <td>Statistical Analysis</td>\n      <td>Ordination Methods</td>\n      <td>Indirect Gradient Analysis</td>\n      <td>Eigenanalysis-based approaches</td>\n      <td>CA</td>\n      <td>NaN</td>\n    </tr>\n    <tr>\n      <th>30</th>\n      <td>Statistical Analysis</td>\n      <td>Ordination Methods</td>\n      <td>Indirect Gradient Analysis</td>\n      <td>Eigenanalysis-based approaches</td>\n      <td>DCA</td>\n      <td>NaN</td>\n    </tr>\n    <tr>\n      <th>31</th>\n      <td>Statistical Analysis</td>\n      <td>Ordination Methods</td>\n      <td>Direct Gradient Analysis</td>\n      <td>Linear model</td>\n      <td>RDA</td>\n      <td>NaN</td>\n    </tr>\n    <tr>\n      <th>32</th>\n      <td>Statistical Analysis</td>\n      <td>Ordination Methods</td>\n      <td>Direct Gradient Analysis</td>\n      <td>Unimodal model</td>\n      <td>CCA</td>\n      <td>NaN</td>\n    </tr>\n    <tr>\n      <th>33</th>\n      <td>Statistical Analysis</td>\n      <td>Ordination Methods</td>\n      <td>Direct Gradient Analysis</td>\n      <td>Unimodal model</td>\n      <td>DCCA</td>\n      <td>NaN</td>\n    </tr>\n  </tbody>\n</table>\n</div>"
     },
     "execution_count": 9,
     "metadata": {},
     "output_type": "execute_result"
    }
   ],
   "source": [
    "import pandas as pd\n",
    "file_path = 'example/statistical_methods_2.csv'\n",
    "df = pd.read_csv(file_path)\n",
    "df"
   ],
   "metadata": {
    "collapsed": false
   }
  },
  {
   "cell_type": "code",
   "execution_count": 11,
   "outputs": [
    {
     "name": "stdout",
     "output_type": "stream",
     "text": [
      "\n",
      "There are same child nodes with different parent nodes:\n",
      "\n",
      "Child Node: One_Sample\n",
      "Parent Nodes: Nonparametric_Tests, Parametric_Tests\n",
      "\n",
      "Child Node: Two_Samples\n",
      "Parent Nodes: nan, Nonparametric_Tests, Parametric_Tests\n",
      "\n",
      "Child Node: Multiple_Samples\n",
      "Parent Nodes: Nonparametric_Tests, Parametric_Tests\n",
      "\n",
      "Child Node: Chi-square\n",
      "Parent Nodes: Independent_Samples, Paired_Samples\n",
      "\n",
      "generate tree success\n",
      "The tree is saved to: /Users/liyueer/PycharmProjects/iphylo_cmd_release/iphylo_files/iPHYLO_Tree.txt\n",
      "\n",
      " (((((DCCA,CCA)Unimodal_model,(RDA)Linear_model)Direct_Gradient_Analysis,((DCA,CA,PCA)Eigenanalysis-based_approaches,(Polar_ordination,PCoA,NMDS)Distance-based_approaches)Indirect_Gradient_Analysis)Ordination_Methods,((((Repeated_Measures_ANOVA)Repeated_Measures_ANOVA+,(One-way_ANOVA)One-way_ANOVA+)Multiple_Samples,((Z_test,Two-group_t_test)Independent_Samples)Two_Samples,(z_test)One_Sample)Parametric_Tests,(((Cochran_s_Q_test)Cochran_s_Q_test+,(Kendall_s_W_test)Kendall_s_W_test+,(Friedman_test)Friedman_test+,(Jonckheere-Terpstra_test__JT_)Jonckheere-Terpstra_test__JT_+,(Median_test)Median_test+,(Kruskal-Wallis_test)Kruskal-Wallis_test+)Multiple_Samples,((Chi-square,McNemar,Wilcoxon,Sign)Paired_Samples,(Kolmogorov-Smirnov,Median,Mann-Whitney,Chi-square)Independent_Samples)Two_Samples,(Binomial,Runs,Kolmogorov-Smirnov,Chi-square)One_Sample)Nonparametric_Tests,(((Paired_t_test)Paired_Samples)Two_Samples)Two_Samples+)Hypothesis_Tests)Statistical_Analysis);\n",
      "\n"
     ]
    }
   ],
   "source": [
    "# python iphylo.py csv2tree -f 'example/statistical_methods_2.csv' -fg -xh\n",
    "\n",
    "import subprocess\n",
    "\n",
    "command = [\n",
    "    'python',\n",
    "    'iphylo.py',\n",
    "    'csv2tree',\n",
    "    '-f',\n",
    "    'example/statistical_methods_2.csv',\n",
    "    '-fg',\n",
    "    '-xh'\n",
    "]\n",
    "subprocess.run(command, text=True)\n",
    "file_path = 'iphylo_files/iPHYLO_Tree.txt'\n",
    "with open(file_path, 'r') as file:\n",
    "    file_content = file.read()\n",
    "print(\"\\n\", file_content)"
   ],
   "metadata": {
    "collapsed": false
   }
  }
 ],
 "metadata": {
  "kernelspec": {
   "display_name": "Python 3",
   "language": "python",
   "name": "python3"
  },
  "language_info": {
   "codemirror_mode": {
    "name": "ipython",
    "version": 2
   },
   "file_extension": ".py",
   "mimetype": "text/x-python",
   "name": "python",
   "nbconvert_exporter": "python",
   "pygments_lexer": "ipython2",
   "version": "2.7.6"
  }
 },
 "nbformat": 4,
 "nbformat_minor": 0
}
